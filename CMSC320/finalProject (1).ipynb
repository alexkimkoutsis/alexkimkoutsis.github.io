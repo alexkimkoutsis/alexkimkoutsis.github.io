{
 "cells": [
  {
   "cell_type": "markdown",
   "source": "## Final Project-- Investigating Used Car Selling Price\n**Group:**\n* Alex Kim-Koutsis\n* Rushil Joshi\n* Ben Snyder\n* David Morin\n\n**Outline:**\n* Data Collection\n  * Libraries\n* Data Processing\n  * Missing Data\n  * Data Types\n* Data Visualization\n  * Predictions\n* Data Analysis\n  * Preprocessing\n  * Train/Validation Split\n* Insights\n\n**Overview:**\n\nFor this project, we will walk through all the stages of data science we have covered in this class-- ranging from data collection (finding the data/exporting it), data processing (cleaning the data and making it suitable for analysis), data visualization (graphing the data, finding rough patterns/relationships), data analysis (confirming relationships found in our data exploration and fitting machine learning models to predict new data), and finally potential insights (what do our conclusions show us about the data/society?).\n\nWe have chosen the Used Car data set, sourced from this database: https://www.kaggle.com/nehalbirla/vehicle-dataset-from-cardekho\n\nFor people buying or attempting to sell their used cars, it would be useful to figure out which parts of the car/statistics involved are most important to maximize the price. We will attempt to see the the impact of various variables, including the year the car was bought, the number of kilometers the car was driven, the fuel type of the car, the number of previous owners of the car, and the selling price of the car.\n\nWe hope to see which of these values significantly decrease the price of the car, which values significantly increase the price, and which values do not significantly influence the price of the car. \n\nThrough these conclusions, we will give car owners who may not be knowledgable tips to maximize the selling price of their car.\n\nAt the same time, we hope to explain exactly what we are doing and why we are doing it so that others can follow along and learn how to work with whatever datasets they may be interested in working with.\n",
   "metadata": {
    "id": "AWZL8sUCV3FZ",
    "cell_id": "00000-0a64ced4-e155-441a-9722-fd0e746ee11d",
    "deepnote_cell_type": "markdown"
   }
  },
  {
   "cell_type": "markdown",
   "source": "# Dataset Description",
   "metadata": {
    "tags": [],
    "is_collapsed": false,
    "cell_id": "00001-1f906c34-23db-4b7a-8714-045821cdca3b",
    "deepnote_cell_type": "text-cell-h1"
   }
  },
  {
   "cell_type": "markdown",
   "source": "As stated previously, we will be analyzing a dataset on used cars. The data in the dataset comes from the website https://www.cardekho.com/ and contains several characteristics for 8128 different used cars. CarDekho.com is one of the most popular car searching tools in India. Therefore, the cars represented on the dataset are mainly foreign cars. Also, the units of the numerical data points are in the metric system, so the mileage of the car is in kilometers per liter instead of miles per gallon, for example. For each car, we are given the name, year, selling price, kilometers driven, type of fuel (diesel, petrol, etc), category of seller (individual, dealer, etc), type of transmission (manual or automatic), how many owners the car has had, mileage, type of engine, max power of the engine, torque, and number of seats. ",
   "metadata": {
    "tags": [],
    "is_collapsed": false,
    "cell_id": "00004-a7a20c77-787e-4dbe-88cc-045a45e1eea6",
    "deepnote_cell_type": "text-cell-p"
   }
  },
  {
   "cell_type": "code",
   "metadata": {
    "id": "hLRWYR9aXFLg",
    "cell_id": "00001-81e10459-5097-47d6-93ed-42b9db7f73ee",
    "deepnote_to_be_reexecuted": false,
    "source_hash": "f5cd8f63",
    "execution_start": 1639974431736,
    "execution_millis": 3816,
    "deepnote_cell_type": "code"
   },
   "source": "## First we will import necessary libraries/utilities for use in various parts of our project.\n\nimport numpy as np\nimport pandas as pd\nimport seaborn as sns",
   "execution_count": 1,
   "outputs": []
  },
  {
   "cell_type": "markdown",
   "source": "## Part 1: Data Collection\nWe will use the following libraries for our data collection:\n* Numpy - Help to store and calculate data efficiently\n* Pandas - Storage and organization of data set\n* Seaborn",
   "metadata": {
    "id": "3OkgAcI0XaKb",
    "cell_id": "00002-a2f6a8e2-8a53-48b1-af47-b3bcba539695",
    "deepnote_cell_type": "markdown"
   }
  },
  {
   "cell_type": "markdown",
   "source": "We will first use the built-in pandas functionality 'read_csv' to load the whole data set in a dataframe (a way of organizing and storing the data). ",
   "metadata": {
    "tags": [],
    "cell_id": "00003-2716d380-2182-4e72-867a-46fe3104dceb",
    "deepnote_cell_type": "markdown"
   }
  },
  {
   "cell_type": "code",
   "metadata": {
    "id": "EjujTh6rXrCh",
    "colab": {
     "base_uri": "https://localhost:8080/",
     "height": 345
    },
    "outputId": "27c58340-18e2-4e28-97cb-9cd555e6d606",
    "cell_id": "00003-1f5728d0-cbd7-4e9e-b96f-6edff6235d60",
    "deepnote_output_heights": [
     177
    ],
    "deepnote_to_be_reexecuted": false,
    "source_hash": "47360fca",
    "execution_start": 1639974435559,
    "execution_millis": 226,
    "deepnote_table_state": {
     "pageSize": 10,
     "pageIndex": 0,
     "filters": [],
     "sortBy": []
    },
    "deepnote_table_loading": false,
    "deepnote_cell_type": "code"
   },
   "source": "df = pd.read_csv('carDetailsV3.csv')\ndf.head()",
   "execution_count": 2,
   "outputs": [
    {
     "output_type": "execute_result",
     "execution_count": 2,
     "data": {
      "application/vnd.deepnote.dataframe.v3+json": {
       "column_count": 13,
       "row_count": 5,
       "columns": [
        {
         "name": "name",
         "dtype": "object",
         "stats": {
          "unique_count": 5,
          "nan_count": 0,
          "categories": [
           {
            "name": "Maruti Swift Dzire VDI",
            "count": 1
           },
           {
            "name": "Skoda Rapid 1.5 TDI Ambition",
            "count": 1
           },
           {
            "name": "3 others",
            "count": 3
           }
          ]
         }
        },
        {
         "name": "year",
         "dtype": "int64",
         "stats": {
          "unique_count": 4,
          "nan_count": 0,
          "min": "2006",
          "max": "2014",
          "histogram": [
           {
            "bin_start": 2006,
            "bin_end": 2006.8,
            "count": 1
           },
           {
            "bin_start": 2006.8,
            "bin_end": 2007.6,
            "count": 1
           },
           {
            "bin_start": 2007.6,
            "bin_end": 2008.4,
            "count": 0
           },
           {
            "bin_start": 2008.4,
            "bin_end": 2009.2,
            "count": 0
           },
           {
            "bin_start": 2009.2,
            "bin_end": 2010,
            "count": 0
           },
           {
            "bin_start": 2010,
            "bin_end": 2010.8,
            "count": 1
           },
           {
            "bin_start": 2010.8,
            "bin_end": 2011.6,
            "count": 0
           },
           {
            "bin_start": 2011.6,
            "bin_end": 2012.4,
            "count": 0
           },
           {
            "bin_start": 2012.4,
            "bin_end": 2013.2,
            "count": 0
           },
           {
            "bin_start": 2013.2,
            "bin_end": 2014,
            "count": 2
           }
          ]
         }
        },
        {
         "name": "selling_price",
         "dtype": "int64",
         "stats": {
          "unique_count": 5,
          "nan_count": 0,
          "min": "130000",
          "max": "450000",
          "histogram": [
           {
            "bin_start": 130000,
            "bin_end": 162000,
            "count": 2
           },
           {
            "bin_start": 162000,
            "bin_end": 194000,
            "count": 0
           },
           {
            "bin_start": 194000,
            "bin_end": 226000,
            "count": 1
           },
           {
            "bin_start": 226000,
            "bin_end": 258000,
            "count": 0
           },
           {
            "bin_start": 258000,
            "bin_end": 290000,
            "count": 0
           },
           {
            "bin_start": 290000,
            "bin_end": 322000,
            "count": 0
           },
           {
            "bin_start": 322000,
            "bin_end": 354000,
            "count": 0
           },
           {
            "bin_start": 354000,
            "bin_end": 386000,
            "count": 1
           },
           {
            "bin_start": 386000,
            "bin_end": 418000,
            "count": 0
           },
           {
            "bin_start": 418000,
            "bin_end": 450000,
            "count": 1
           }
          ]
         }
        },
        {
         "name": "km_driven",
         "dtype": "int64",
         "stats": {
          "unique_count": 4,
          "nan_count": 0,
          "min": "120000",
          "max": "145500",
          "histogram": [
           {
            "bin_start": 120000,
            "bin_end": 122550,
            "count": 2
           },
           {
            "bin_start": 122550,
            "bin_end": 125100,
            "count": 0
           },
           {
            "bin_start": 125100,
            "bin_end": 127650,
            "count": 1
           },
           {
            "bin_start": 127650,
            "bin_end": 130200,
            "count": 0
           },
           {
            "bin_start": 130200,
            "bin_end": 132750,
            "count": 0
           },
           {
            "bin_start": 132750,
            "bin_end": 135300,
            "count": 0
           },
           {
            "bin_start": 135300,
            "bin_end": 137850,
            "count": 0
           },
           {
            "bin_start": 137850,
            "bin_end": 140400,
            "count": 1
           },
           {
            "bin_start": 140400,
            "bin_end": 142950,
            "count": 0
           },
           {
            "bin_start": 142950,
            "bin_end": 145500,
            "count": 1
           }
          ]
         }
        },
        {
         "name": "fuel",
         "dtype": "object",
         "stats": {
          "unique_count": 2,
          "nan_count": 0,
          "categories": [
           {
            "name": "Diesel",
            "count": 3
           },
           {
            "name": "Petrol",
            "count": 2
           }
          ]
         }
        },
        {
         "name": "seller_type",
         "dtype": "object",
         "stats": {
          "unique_count": 1,
          "nan_count": 0,
          "categories": [
           {
            "name": "Individual",
            "count": 5
           }
          ]
         }
        },
        {
         "name": "transmission",
         "dtype": "object",
         "stats": {
          "unique_count": 1,
          "nan_count": 0,
          "categories": [
           {
            "name": "Manual",
            "count": 5
           }
          ]
         }
        },
        {
         "name": "owner",
         "dtype": "object",
         "stats": {
          "unique_count": 3,
          "nan_count": 0,
          "categories": [
           {
            "name": "First Owner",
            "count": 3
           },
           {
            "name": "Second Owner",
            "count": 1
           },
           {
            "name": "Third Owner",
            "count": 1
           }
          ]
         }
        },
        {
         "name": "mileage",
         "dtype": "object",
         "stats": {
          "unique_count": 5,
          "nan_count": 0,
          "categories": [
           {
            "name": "23.4 kmpl",
            "count": 1
           },
           {
            "name": "21.14 kmpl",
            "count": 1
           },
           {
            "name": "3 others",
            "count": 3
           }
          ]
         }
        },
        {
         "name": "engine",
         "dtype": "object",
         "stats": {
          "unique_count": 5,
          "nan_count": 0,
          "categories": [
           {
            "name": "1248 CC",
            "count": 1
           },
           {
            "name": "1498 CC",
            "count": 1
           },
           {
            "name": "3 others",
            "count": 3
           }
          ]
         }
        },
        {
         "name": "max_power",
         "dtype": "object",
         "stats": {
          "unique_count": 5,
          "nan_count": 0,
          "categories": [
           {
            "name": "74 bhp",
            "count": 1
           },
           {
            "name": "103.52 bhp",
            "count": 1
           },
           {
            "name": "3 others",
            "count": 3
           }
          ]
         }
        },
        {
         "name": "torque",
         "dtype": "object",
         "stats": {
          "unique_count": 5,
          "nan_count": 0,
          "categories": [
           {
            "name": "190Nm@ 2000rpm",
            "count": 1
           },
           {
            "name": "250Nm@ 1500-2500rpm",
            "count": 1
           },
           {
            "name": "3 others",
            "count": 3
           }
          ]
         }
        },
        {
         "name": "seats",
         "dtype": "float64",
         "stats": {
          "unique_count": 1,
          "nan_count": 0,
          "min": "5.0",
          "max": "5.0",
          "histogram": [
           {
            "bin_start": 4.5,
            "bin_end": 4.6,
            "count": 0
           },
           {
            "bin_start": 4.6,
            "bin_end": 4.7,
            "count": 0
           },
           {
            "bin_start": 4.7,
            "bin_end": 4.8,
            "count": 0
           },
           {
            "bin_start": 4.8,
            "bin_end": 4.9,
            "count": 0
           },
           {
            "bin_start": 4.9,
            "bin_end": 5,
            "count": 0
           },
           {
            "bin_start": 5,
            "bin_end": 5.1,
            "count": 5
           },
           {
            "bin_start": 5.1,
            "bin_end": 5.2,
            "count": 0
           },
           {
            "bin_start": 5.2,
            "bin_end": 5.3,
            "count": 0
           },
           {
            "bin_start": 5.3,
            "bin_end": 5.4,
            "count": 0
           },
           {
            "bin_start": 5.4,
            "bin_end": 5.5,
            "count": 0
           }
          ]
         }
        },
        {
         "name": "_deepnote_index_column",
         "dtype": "int64"
        }
       ],
       "rows": [
        {
         "name": "Maruti Swift Dzire VDI",
         "year": 2014,
         "selling_price": 450000,
         "km_driven": 145500,
         "fuel": "Diesel",
         "seller_type": "Individual",
         "transmission": "Manual",
         "owner": "First Owner",
         "mileage": "23.4 kmpl",
         "engine": "1248 CC",
         "max_power": "74 bhp",
         "torque": "190Nm@ 2000rpm",
         "seats": 5,
         "_deepnote_index_column": 0
        },
        {
         "name": "Skoda Rapid 1.5 TDI Ambition",
         "year": 2014,
         "selling_price": 370000,
         "km_driven": 120000,
         "fuel": "Diesel",
         "seller_type": "Individual",
         "transmission": "Manual",
         "owner": "Second Owner",
         "mileage": "21.14 kmpl",
         "engine": "1498 CC",
         "max_power": "103.52 bhp",
         "torque": "250Nm@ 1500-2500rpm",
         "seats": 5,
         "_deepnote_index_column": 1
        },
        {
         "name": "Honda City 2017-2020 EXi",
         "year": 2006,
         "selling_price": 158000,
         "km_driven": 140000,
         "fuel": "Petrol",
         "seller_type": "Individual",
         "transmission": "Manual",
         "owner": "Third Owner",
         "mileage": "17.7 kmpl",
         "engine": "1497 CC",
         "max_power": "78 bhp",
         "torque": "12.7@ 2,700(kgm@ rpm)",
         "seats": 5,
         "_deepnote_index_column": 2
        },
        {
         "name": "Hyundai i20 Sportz Diesel",
         "year": 2010,
         "selling_price": 225000,
         "km_driven": 127000,
         "fuel": "Diesel",
         "seller_type": "Individual",
         "transmission": "Manual",
         "owner": "First Owner",
         "mileage": "23.0 kmpl",
         "engine": "1396 CC",
         "max_power": "90 bhp",
         "torque": "22.4 kgm at 1750-2750rpm",
         "seats": 5,
         "_deepnote_index_column": 3
        },
        {
         "name": "Maruti Swift VXI BSIII",
         "year": 2007,
         "selling_price": 130000,
         "km_driven": 120000,
         "fuel": "Petrol",
         "seller_type": "Individual",
         "transmission": "Manual",
         "owner": "First Owner",
         "mileage": "16.1 kmpl",
         "engine": "1298 CC",
         "max_power": "88.2 bhp",
         "torque": "11.5@ 4,500(kgm@ rpm)",
         "seats": 5,
         "_deepnote_index_column": 4
        }
       ]
      },
      "text/plain": "                           name  year  selling_price  km_driven    fuel  \\\n0        Maruti Swift Dzire VDI  2014         450000     145500  Diesel   \n1  Skoda Rapid 1.5 TDI Ambition  2014         370000     120000  Diesel   \n2      Honda City 2017-2020 EXi  2006         158000     140000  Petrol   \n3     Hyundai i20 Sportz Diesel  2010         225000     127000  Diesel   \n4        Maruti Swift VXI BSIII  2007         130000     120000  Petrol   \n\n  seller_type transmission         owner     mileage   engine   max_power  \\\n0  Individual       Manual   First Owner   23.4 kmpl  1248 CC      74 bhp   \n1  Individual       Manual  Second Owner  21.14 kmpl  1498 CC  103.52 bhp   \n2  Individual       Manual   Third Owner   17.7 kmpl  1497 CC      78 bhp   \n3  Individual       Manual   First Owner   23.0 kmpl  1396 CC      90 bhp   \n4  Individual       Manual   First Owner   16.1 kmpl  1298 CC    88.2 bhp   \n\n                     torque  seats  \n0            190Nm@ 2000rpm    5.0  \n1       250Nm@ 1500-2500rpm    5.0  \n2     12.7@ 2,700(kgm@ rpm)    5.0  \n3  22.4 kgm at 1750-2750rpm    5.0  \n4     11.5@ 4,500(kgm@ rpm)    5.0  ",
      "text/html": "<div>\n<style scoped>\n    .dataframe tbody tr th:only-of-type {\n        vertical-align: middle;\n    }\n\n    .dataframe tbody tr th {\n        vertical-align: top;\n    }\n\n    .dataframe thead th {\n        text-align: right;\n    }\n</style>\n<table border=\"1\" class=\"dataframe\">\n  <thead>\n    <tr style=\"text-align: right;\">\n      <th></th>\n      <th>name</th>\n      <th>year</th>\n      <th>selling_price</th>\n      <th>km_driven</th>\n      <th>fuel</th>\n      <th>seller_type</th>\n      <th>transmission</th>\n      <th>owner</th>\n      <th>mileage</th>\n      <th>engine</th>\n      <th>max_power</th>\n      <th>torque</th>\n      <th>seats</th>\n    </tr>\n  </thead>\n  <tbody>\n    <tr>\n      <th>0</th>\n      <td>Maruti Swift Dzire VDI</td>\n      <td>2014</td>\n      <td>450000</td>\n      <td>145500</td>\n      <td>Diesel</td>\n      <td>Individual</td>\n      <td>Manual</td>\n      <td>First Owner</td>\n      <td>23.4 kmpl</td>\n      <td>1248 CC</td>\n      <td>74 bhp</td>\n      <td>190Nm@ 2000rpm</td>\n      <td>5.0</td>\n    </tr>\n    <tr>\n      <th>1</th>\n      <td>Skoda Rapid 1.5 TDI Ambition</td>\n      <td>2014</td>\n      <td>370000</td>\n      <td>120000</td>\n      <td>Diesel</td>\n      <td>Individual</td>\n      <td>Manual</td>\n      <td>Second Owner</td>\n      <td>21.14 kmpl</td>\n      <td>1498 CC</td>\n      <td>103.52 bhp</td>\n      <td>250Nm@ 1500-2500rpm</td>\n      <td>5.0</td>\n    </tr>\n    <tr>\n      <th>2</th>\n      <td>Honda City 2017-2020 EXi</td>\n      <td>2006</td>\n      <td>158000</td>\n      <td>140000</td>\n      <td>Petrol</td>\n      <td>Individual</td>\n      <td>Manual</td>\n      <td>Third Owner</td>\n      <td>17.7 kmpl</td>\n      <td>1497 CC</td>\n      <td>78 bhp</td>\n      <td>12.7@ 2,700(kgm@ rpm)</td>\n      <td>5.0</td>\n    </tr>\n    <tr>\n      <th>3</th>\n      <td>Hyundai i20 Sportz Diesel</td>\n      <td>2010</td>\n      <td>225000</td>\n      <td>127000</td>\n      <td>Diesel</td>\n      <td>Individual</td>\n      <td>Manual</td>\n      <td>First Owner</td>\n      <td>23.0 kmpl</td>\n      <td>1396 CC</td>\n      <td>90 bhp</td>\n      <td>22.4 kgm at 1750-2750rpm</td>\n      <td>5.0</td>\n    </tr>\n    <tr>\n      <th>4</th>\n      <td>Maruti Swift VXI BSIII</td>\n      <td>2007</td>\n      <td>130000</td>\n      <td>120000</td>\n      <td>Petrol</td>\n      <td>Individual</td>\n      <td>Manual</td>\n      <td>First Owner</td>\n      <td>16.1 kmpl</td>\n      <td>1298 CC</td>\n      <td>88.2 bhp</td>\n      <td>11.5@ 4,500(kgm@ rpm)</td>\n      <td>5.0</td>\n    </tr>\n  </tbody>\n</table>\n</div>"
     },
     "metadata": {}
    }
   ]
  },
  {
   "cell_type": "markdown",
   "source": "Notice we have a lot of data, but some of it may not be fit for use for analysis. In the next section, we will identify the insufficient columns and show how to convert them for use.",
   "metadata": {
    "tags": [],
    "cell_id": "00005-0a6a7a5f-e37f-40af-9074-d9ce62789db0",
    "deepnote_cell_type": "markdown"
   }
  },
  {
   "cell_type": "markdown",
   "source": "## Part 2: Exploratory Data Analysis and Data Processing",
   "metadata": {
    "id": "OqcMI0LtXf9M",
    "cell_id": "00005-c75ca915-5ef7-400f-a4a6-f572390cbda6",
    "deepnote_cell_type": "markdown"
   }
  },
  {
   "cell_type": "markdown",
   "source": "Before we can run any machine learning algorithms on our data, we first need to understand it and make sure it is in the right format. Let's first check if there is any missing data. If there are missing values, we need to figure out how to handle them. Various techniques include removing those columns, using imputation to fill in those values, or taking the average of a subset of the other rows or most common category of a subset of the other rows to fill in the data.\n\nFor those interested, here is a fantastic article on managing missing data.\nhttps://towardsdatascience.com/how-to-handle-missing-data-8646b18db0d4\nBelow, you can see how we tackle this concept in a real data set that we (before working on this project) had never seen before.",
   "metadata": {
    "tags": [],
    "cell_id": "00009-b0694222-a60b-436d-ab98-68f73473934d",
    "deepnote_cell_type": "markdown"
   }
  },
  {
   "cell_type": "code",
   "metadata": {
    "tags": [],
    "cell_id": "00008-b0da5f72-6ae8-4934-8241-f977369067b3",
    "deepnote_to_be_reexecuted": false,
    "source_hash": "f3dd26da",
    "execution_start": 1639974435815,
    "execution_millis": 29,
    "deepnote_output_heights": [
     270.796875
    ],
    "deepnote_cell_type": "code"
   },
   "source": "df.isnull().sum()",
   "execution_count": 3,
   "outputs": [
    {
     "output_type": "execute_result",
     "execution_count": 3,
     "data": {
      "text/plain": "name               0\nyear               0\nselling_price      0\nkm_driven          0\nfuel               0\nseller_type        0\ntransmission       0\nowner              0\nmileage          221\nengine           221\nmax_power        215\ntorque           222\nseats            221\ndtype: int64"
     },
     "metadata": {}
    }
   ]
  },
  {
   "cell_type": "markdown",
   "source": "We can see that there is some data missing but not that significant of an amount. We can check the percent of our overall dataset that is missing and then view it graphically.",
   "metadata": {
    "tags": [],
    "cell_id": "00013-0bc89cdb-64a3-4122-8897-d86dcdad44a0",
    "deepnote_cell_type": "markdown"
   }
  },
  {
   "cell_type": "code",
   "metadata": {
    "tags": [],
    "cell_id": "00015-5ec40d3c-3c72-47be-a1a2-a03ec6192adf",
    "deepnote_to_be_reexecuted": false,
    "source_hash": "879a121d",
    "execution_start": 1639974435857,
    "execution_millis": 101,
    "deepnote_output_heights": [
     21.1875
    ],
    "deepnote_cell_type": "code"
   },
   "source": "total = df.isnull().sum().sort_values(ascending=False)\npc1 = df.isnull().sum()/df.isnull().count()*100\npc2 = (round(pc1, 1)).sort_values(ascending=False)\nmissing_data = pd.concat([total, pc2], axis=1, keys=['Total', 'Percent Missing'])\nmissing_data = missing_data[missing_data[\"Total\"] != 0]\nmissing_data",
   "execution_count": 4,
   "outputs": [
    {
     "output_type": "execute_result",
     "execution_count": 4,
     "data": {
      "application/vnd.deepnote.dataframe.v3+json": {
       "column_count": 2,
       "row_count": 5,
       "columns": [
        {
         "name": "Total",
         "dtype": "int64",
         "stats": {
          "unique_count": 3,
          "nan_count": 0,
          "min": "215",
          "max": "222",
          "histogram": [
           {
            "bin_start": 215,
            "bin_end": 215.7,
            "count": 1
           },
           {
            "bin_start": 215.7,
            "bin_end": 216.4,
            "count": 0
           },
           {
            "bin_start": 216.4,
            "bin_end": 217.1,
            "count": 0
           },
           {
            "bin_start": 217.1,
            "bin_end": 217.8,
            "count": 0
           },
           {
            "bin_start": 217.8,
            "bin_end": 218.5,
            "count": 0
           },
           {
            "bin_start": 218.5,
            "bin_end": 219.2,
            "count": 0
           },
           {
            "bin_start": 219.2,
            "bin_end": 219.9,
            "count": 0
           },
           {
            "bin_start": 219.9,
            "bin_end": 220.6,
            "count": 0
           },
           {
            "bin_start": 220.6,
            "bin_end": 221.3,
            "count": 3
           },
           {
            "bin_start": 221.3,
            "bin_end": 222,
            "count": 1
           }
          ]
         }
        },
        {
         "name": "Percent Missing",
         "dtype": "float64",
         "stats": {
          "unique_count": 2,
          "nan_count": 0,
          "min": "2.6",
          "max": "2.7",
          "histogram": [
           {
            "bin_start": 2.6,
            "bin_end": 2.6100000000000003,
            "count": 1
           },
           {
            "bin_start": 2.6100000000000003,
            "bin_end": 2.62,
            "count": 0
           },
           {
            "bin_start": 2.62,
            "bin_end": 2.63,
            "count": 0
           },
           {
            "bin_start": 2.63,
            "bin_end": 2.64,
            "count": 0
           },
           {
            "bin_start": 2.64,
            "bin_end": 2.6500000000000004,
            "count": 0
           },
           {
            "bin_start": 2.6500000000000004,
            "bin_end": 2.66,
            "count": 0
           },
           {
            "bin_start": 2.66,
            "bin_end": 2.67,
            "count": 0
           },
           {
            "bin_start": 2.67,
            "bin_end": 2.68,
            "count": 0
           },
           {
            "bin_start": 2.68,
            "bin_end": 2.6900000000000004,
            "count": 0
           },
           {
            "bin_start": 2.6900000000000004,
            "bin_end": 2.7,
            "count": 4
           }
          ]
         }
        },
        {
         "name": "_deepnote_index_column",
         "dtype": "object"
        }
       ],
       "rows": [
        {
         "Total": 222,
         "Percent Missing": 2.7,
         "_deepnote_index_column": "torque"
        },
        {
         "Total": 221,
         "Percent Missing": 2.7,
         "_deepnote_index_column": "mileage"
        },
        {
         "Total": 221,
         "Percent Missing": 2.7,
         "_deepnote_index_column": "engine"
        },
        {
         "Total": 221,
         "Percent Missing": 2.7,
         "_deepnote_index_column": "seats"
        },
        {
         "Total": 215,
         "Percent Missing": 2.6,
         "_deepnote_index_column": "max_power"
        }
       ]
      },
      "text/plain": "           Total  Percent Missing\ntorque       222              2.7\nmileage      221              2.7\nengine       221              2.7\nseats        221              2.7\nmax_power    215              2.6",
      "text/html": "<div>\n<style scoped>\n    .dataframe tbody tr th:only-of-type {\n        vertical-align: middle;\n    }\n\n    .dataframe tbody tr th {\n        vertical-align: top;\n    }\n\n    .dataframe thead th {\n        text-align: right;\n    }\n</style>\n<table border=\"1\" class=\"dataframe\">\n  <thead>\n    <tr style=\"text-align: right;\">\n      <th></th>\n      <th>Total</th>\n      <th>Percent Missing</th>\n    </tr>\n  </thead>\n  <tbody>\n    <tr>\n      <th>torque</th>\n      <td>222</td>\n      <td>2.7</td>\n    </tr>\n    <tr>\n      <th>mileage</th>\n      <td>221</td>\n      <td>2.7</td>\n    </tr>\n    <tr>\n      <th>engine</th>\n      <td>221</td>\n      <td>2.7</td>\n    </tr>\n    <tr>\n      <th>seats</th>\n      <td>221</td>\n      <td>2.7</td>\n    </tr>\n    <tr>\n      <th>max_power</th>\n      <td>215</td>\n      <td>2.6</td>\n    </tr>\n  </tbody>\n</table>\n</div>"
     },
     "metadata": {}
    }
   ]
  },
  {
   "cell_type": "code",
   "metadata": {
    "tags": [],
    "cell_id": "00016-fdc761ca-07c6-4c9e-8328-5bd53d4dd998",
    "deepnote_to_be_reexecuted": false,
    "source_hash": "4ab5cde4",
    "execution_start": 1639974435963,
    "execution_millis": 1334,
    "deepnote_output_heights": [
     21.1875,
     309
    ],
    "deepnote_cell_type": "code"
   },
   "source": "cols = df.columns \ncolors = ['darkblue', 'teal'] \nsns.heatmap(df[cols].isnull(), cmap=sns.color_palette(colors))",
   "execution_count": 5,
   "outputs": [
    {
     "output_type": "execute_result",
     "execution_count": 5,
     "data": {
      "text/plain": "<AxesSubplot:>"
     },
     "metadata": {}
    },
    {
     "data": {
      "text/plain": "<Figure size 432x288 with 2 Axes>",
      "image/png": "[encoded data removed]"
     },
     "metadata": {
      "needs_background": "light",
      "image/png": {
       "width": 365,
       "height": 307
      }
     },
     "output_type": "display_data"
    }
   ]
  },
  {
   "cell_type": "markdown",
   "source": "It is interesting that most of the missing data seems to be in the same area. Let's look at our missing data to see if we can find any pattern as to why it's not there.",
   "metadata": {
    "tags": [],
    "cell_id": "00017-4979f810-fcf6-4e45-8a27-baa7a8c13d43",
    "deepnote_cell_type": "markdown"
   }
  },
  {
   "cell_type": "code",
   "metadata": {
    "tags": [],
    "cell_id": "00018-9079d9af-75e2-4910-b8d8-fbfd491df55f",
    "deepnote_to_be_reexecuted": false,
    "source_hash": "fc55a735",
    "execution_start": 1639974437314,
    "execution_millis": 173,
    "deepnote_table_state": {
     "pageSize": 10,
     "pageIndex": 19,
     "filters": [],
     "sortBy": []
    },
    "deepnote_table_loading": false,
    "deepnote_table_invalid": false,
    "deepnote_cell_type": "code"
   },
   "source": "df[df['torque'].isnull()].head()",
   "execution_count": 6,
   "outputs": [
    {
     "output_type": "execute_result",
     "execution_count": 6,
     "data": {
      "application/vnd.deepnote.dataframe.v3+json": {
       "column_count": 13,
       "row_count": 5,
       "columns": [
        {
         "name": "name",
         "dtype": "object",
         "stats": {
          "unique_count": 5,
          "nan_count": 0,
          "categories": [
           {
            "name": "Maruti Swift 1.3 VXi",
            "count": 1
           },
           {
            "name": "Fiat Palio 1.2 ELX",
            "count": 1
           },
           {
            "name": "3 others",
            "count": 3
           }
          ]
         }
        },
        {
         "name": "year",
         "dtype": "int64",
         "stats": {
          "unique_count": 4,
          "nan_count": 0,
          "min": "2003",
          "max": "2015",
          "histogram": [
           {
            "bin_start": 2003,
            "bin_end": 2004.2,
            "count": 2
           },
           {
            "bin_start": 2004.2,
            "bin_end": 2005.4,
            "count": 0
           },
           {
            "bin_start": 2005.4,
            "bin_end": 2006.6,
            "count": 0
           },
           {
            "bin_start": 2006.6,
            "bin_end": 2007.8,
            "count": 1
           },
           {
            "bin_start": 2007.8,
            "bin_end": 2009,
            "count": 0
           },
           {
            "bin_start": 2009,
            "bin_end": 2010.2,
            "count": 1
           },
           {
            "bin_start": 2010.2,
            "bin_end": 2011.4,
            "count": 0
           },
           {
            "bin_start": 2011.4,
            "bin_end": 2012.6,
            "count": 0
           },
           {
            "bin_start": 2012.6,
            "bin_end": 2013.8,
            "count": 0
           },
           {
            "bin_start": 2013.8,
            "bin_end": 2015,
            "count": 1
           }
          ]
         }
        },
        {
         "name": "selling_price",
         "dtype": "int64",
         "stats": {
          "unique_count": 5,
          "nan_count": 0,
          "min": "50000",
          "max": "475000",
          "histogram": [
           {
            "bin_start": 50000,
            "bin_end": 92500,
            "count": 2
           },
           {
            "bin_start": 92500,
            "bin_end": 135000,
            "count": 0
           },
           {
            "bin_start": 135000,
            "bin_end": 177500,
            "count": 0
           },
           {
            "bin_start": 177500,
            "bin_end": 220000,
            "count": 1
           },
           {
            "bin_start": 220000,
            "bin_end": 262500,
            "count": 0
           },
           {
            "bin_start": 262500,
            "bin_end": 305000,
            "count": 1
           },
           {
            "bin_start": 305000,
            "bin_end": 347500,
            "count": 0
           },
           {
            "bin_start": 347500,
            "bin_end": 390000,
            "count": 0
           },
           {
            "bin_start": 390000,
            "bin_end": 432500,
            "count": 0
           },
           {
            "bin_start": 432500,
            "bin_end": 475000,
            "count": 1
           }
          ]
         }
        },
        {
         "name": "km_driven",
         "dtype": "int64",
         "stats": {
          "unique_count": 5,
          "nan_count": 0,
          "min": "50000",
          "max": "120000",
          "histogram": [
           {
            "bin_start": 50000,
            "bin_end": 57000,
            "count": 1
           },
           {
            "bin_start": 57000,
            "bin_end": 64000,
            "count": 0
           },
           {
            "bin_start": 64000,
            "bin_end": 71000,
            "count": 1
           },
           {
            "bin_start": 71000,
            "bin_end": 78000,
            "count": 0
           },
           {
            "bin_start": 78000,
            "bin_end": 85000,
            "count": 2
           },
           {
            "bin_start": 85000,
            "bin_end": 92000,
            "count": 0
           },
           {
            "bin_start": 92000,
            "bin_end": 99000,
            "count": 0
           },
           {
            "bin_start": 99000,
            "bin_end": 106000,
            "count": 0
           },
           {
            "bin_start": 106000,
            "bin_end": 113000,
            "count": 0
           },
           {
            "bin_start": 113000,
            "bin_end": 120000,
            "count": 1
           }
          ]
         }
        },
        {
         "name": "fuel",
         "dtype": "object",
         "stats": {
          "unique_count": 2,
          "nan_count": 0,
          "categories": [
           {
            "name": "Diesel",
            "count": 3
           },
           {
            "name": "Petrol",
            "count": 2
           }
          ]
         }
        },
        {
         "name": "seller_type",
         "dtype": "object",
         "stats": {
          "unique_count": 2,
          "nan_count": 0,
          "categories": [
           {
            "name": "Individual",
            "count": 4
           },
           {
            "name": "Dealer",
            "count": 1
           }
          ]
         }
        },
        {
         "name": "transmission",
         "dtype": "object",
         "stats": {
          "unique_count": 1,
          "nan_count": 0,
          "categories": [
           {
            "name": "Manual",
            "count": 5
           }
          ]
         }
        },
        {
         "name": "owner",
         "dtype": "object",
         "stats": {
          "unique_count": 2,
          "nan_count": 0,
          "categories": [
           {
            "name": "Second Owner",
            "count": 3
           },
           {
            "name": "First Owner",
            "count": 2
           }
          ]
         }
        },
        {
         "name": "mileage",
         "dtype": "object",
         "stats": {
          "unique_count": 0,
          "nan_count": 5,
          "categories": [
           {
            "name": "Missing",
            "count": 5
           }
          ]
         }
        },
        {
         "name": "engine",
         "dtype": "object",
         "stats": {
          "unique_count": 0,
          "nan_count": 5,
          "categories": [
           {
            "name": "Missing",
            "count": 5
           }
          ]
         }
        },
        {
         "name": "max_power",
         "dtype": "object",
         "stats": {
          "unique_count": 0,
          "nan_count": 5,
          "categories": [
           {
            "name": "Missing",
            "count": 5
           }
          ]
         }
        },
        {
         "name": "torque",
         "dtype": "object",
         "stats": {
          "unique_count": 0,
          "nan_count": 5,
          "categories": [
           {
            "name": "Missing",
            "count": 5
           }
          ]
         }
        },
        {
         "name": "seats",
         "dtype": "float64",
         "stats": {
          "unique_count": 0,
          "nan_count": 5,
          "min": null,
          "max": null,
          "histogram": [
           {
            "bin_start": 0,
            "bin_end": 0.1,
            "count": 0
           },
           {
            "bin_start": 0.1,
            "bin_end": 0.2,
            "count": 0
           },
           {
            "bin_start": 0.2,
            "bin_end": 0.30000000000000004,
            "count": 0
           },
           {
            "bin_start": 0.30000000000000004,
            "bin_end": 0.4,
            "count": 0
           },
           {
            "bin_start": 0.4,
            "bin_end": 0.5,
            "count": 0
           },
           {
            "bin_start": 0.5,
            "bin_end": 0.6000000000000001,
            "count": 0
           },
           {
            "bin_start": 0.6000000000000001,
            "bin_end": 0.7000000000000001,
            "count": 0
           },
           {
            "bin_start": 0.7000000000000001,
            "bin_end": 0.8,
            "count": 0
           },
           {
            "bin_start": 0.8,
            "bin_end": 0.9,
            "count": 0
           },
           {
            "bin_start": 0.9,
            "bin_end": 1,
            "count": 0
           }
          ]
         }
        },
        {
         "name": "_deepnote_index_column",
         "dtype": "int64"
        }
       ],
       "rows": [
        {
         "name": "Maruti Swift 1.3 VXi",
         "year": 2007,
         "selling_price": 200000,
         "km_driven": 80000,
         "fuel": "Petrol",
         "seller_type": "Individual",
         "transmission": "Manual",
         "owner": "Second Owner",
         "mileage": "nan",
         "engine": "nan",
         "max_power": "nan",
         "torque": "nan",
         "seats": "nan",
         "_deepnote_index_column": 13
        },
        {
         "name": "Fiat Palio 1.2 ELX",
         "year": 2003,
         "selling_price": 70000,
         "km_driven": 50000,
         "fuel": "Petrol",
         "seller_type": "Individual",
         "transmission": "Manual",
         "owner": "Second Owner",
         "mileage": "nan",
         "engine": "nan",
         "max_power": "nan",
         "torque": "nan",
         "seats": "nan",
         "_deepnote_index_column": 31
        },
        {
         "name": "Tata Indica DLS",
         "year": 2003,
         "selling_price": 50000,
         "km_driven": 70000,
         "fuel": "Diesel",
         "seller_type": "Individual",
         "transmission": "Manual",
         "owner": "First Owner",
         "mileage": "nan",
         "engine": "nan",
         "max_power": "nan",
         "torque": "nan",
         "seats": "nan",
         "_deepnote_index_column": 78
        },
        {
         "name": "Maruti Swift VDI BSIV W ABS",
         "year": 2015,
         "selling_price": 475000,
         "km_driven": 78000,
         "fuel": "Diesel",
         "seller_type": "Dealer",
         "transmission": "Manual",
         "owner": "First Owner",
         "mileage": "nan",
         "engine": "nan",
         "max_power": "nan",
         "torque": "nan",
         "seats": "nan",
         "_deepnote_index_column": 87
        },
        {
         "name": "Maruti Swift VDI BSIV",
         "year": 2010,
         "selling_price": 300000,
         "km_driven": 120000,
         "fuel": "Diesel",
         "seller_type": "Individual",
         "transmission": "Manual",
         "owner": "Second Owner",
         "mileage": "nan",
         "engine": "nan",
         "max_power": "nan",
         "torque": "nan",
         "seats": "nan",
         "_deepnote_index_column": 119
        }
       ]
      },
      "text/plain": "                            name  year  selling_price  km_driven    fuel  \\\n13          Maruti Swift 1.3 VXi  2007         200000      80000  Petrol   \n31            Fiat Palio 1.2 ELX  2003          70000      50000  Petrol   \n78               Tata Indica DLS  2003          50000      70000  Diesel   \n87   Maruti Swift VDI BSIV W ABS  2015         475000      78000  Diesel   \n119        Maruti Swift VDI BSIV  2010         300000     120000  Diesel   \n\n    seller_type transmission         owner mileage engine max_power torque  \\\n13   Individual       Manual  Second Owner     NaN    NaN       NaN    NaN   \n31   Individual       Manual  Second Owner     NaN    NaN       NaN    NaN   \n78   Individual       Manual   First Owner     NaN    NaN       NaN    NaN   \n87       Dealer       Manual   First Owner     NaN    NaN       NaN    NaN   \n119  Individual       Manual  Second Owner     NaN    NaN       NaN    NaN   \n\n     seats  \n13     NaN  \n31     NaN  \n78     NaN  \n87     NaN  \n119    NaN  ",
      "text/html": "<div>\n<style scoped>\n    .dataframe tbody tr th:only-of-type {\n        vertical-align: middle;\n    }\n\n    .dataframe tbody tr th {\n        vertical-align: top;\n    }\n\n    .dataframe thead th {\n        text-align: right;\n    }\n</style>\n<table border=\"1\" class=\"dataframe\">\n  <thead>\n    <tr style=\"text-align: right;\">\n      <th></th>\n      <th>name</th>\n      <th>year</th>\n      <th>selling_price</th>\n      <th>km_driven</th>\n      <th>fuel</th>\n      <th>seller_type</th>\n      <th>transmission</th>\n      <th>owner</th>\n      <th>mileage</th>\n      <th>engine</th>\n      <th>max_power</th>\n      <th>torque</th>\n      <th>seats</th>\n    </tr>\n  </thead>\n  <tbody>\n    <tr>\n      <th>13</th>\n      <td>Maruti Swift 1.3 VXi</td>\n      <td>2007</td>\n      <td>200000</td>\n      <td>80000</td>\n      <td>Petrol</td>\n      <td>Individual</td>\n      <td>Manual</td>\n      <td>Second Owner</td>\n      <td>NaN</td>\n      <td>NaN</td>\n      <td>NaN</td>\n      <td>NaN</td>\n      <td>NaN</td>\n    </tr>\n    <tr>\n      <th>31</th>\n      <td>Fiat Palio 1.2 ELX</td>\n      <td>2003</td>\n      <td>70000</td>\n      <td>50000</td>\n      <td>Petrol</td>\n      <td>Individual</td>\n      <td>Manual</td>\n      <td>Second Owner</td>\n      <td>NaN</td>\n      <td>NaN</td>\n      <td>NaN</td>\n      <td>NaN</td>\n      <td>NaN</td>\n    </tr>\n    <tr>\n      <th>78</th>\n      <td>Tata Indica DLS</td>\n      <td>2003</td>\n      <td>50000</td>\n      <td>70000</td>\n      <td>Diesel</td>\n      <td>Individual</td>\n      <td>Manual</td>\n      <td>First Owner</td>\n      <td>NaN</td>\n      <td>NaN</td>\n      <td>NaN</td>\n      <td>NaN</td>\n      <td>NaN</td>\n    </tr>\n    <tr>\n      <th>87</th>\n      <td>Maruti Swift VDI BSIV W ABS</td>\n      <td>2015</td>\n      <td>475000</td>\n      <td>78000</td>\n      <td>Diesel</td>\n      <td>Dealer</td>\n      <td>Manual</td>\n      <td>First Owner</td>\n      <td>NaN</td>\n      <td>NaN</td>\n      <td>NaN</td>\n      <td>NaN</td>\n      <td>NaN</td>\n    </tr>\n    <tr>\n      <th>119</th>\n      <td>Maruti Swift VDI BSIV</td>\n      <td>2010</td>\n      <td>300000</td>\n      <td>120000</td>\n      <td>Diesel</td>\n      <td>Individual</td>\n      <td>Manual</td>\n      <td>Second Owner</td>\n      <td>NaN</td>\n      <td>NaN</td>\n      <td>NaN</td>\n      <td>NaN</td>\n      <td>NaN</td>\n    </tr>\n  </tbody>\n</table>\n</div>"
     },
     "metadata": {}
    }
   ]
  },
  {
   "cell_type": "markdown",
   "source": "By inspection, it seems like the only real commonality is that almost all of these cars have the Manual transmission type. Not all of them though - some are Automatic. There don't seem to be any other commonalities among the missing data elements from car type to year or anything else. Thus, we may be able to assume that the data is missing somewhat at random. At the same time, when we look at the heatmap of missing data, it seems like if a car has one piece of missing data, it is missing data in most categories. This may suggest that the data is missing for a reason that we can't see in the dataset - for example, certain owners may have not provided data for their cars in general.\n\nBut, since we did notice most of the cars with missing data are Manual transmission, we can try to see if it is signficant at all.\nFor fun, let's compare what percent of the missing data has manual transmission compared to the dataset as a whole.",
   "metadata": {
    "tags": [],
    "cell_id": "00019-e95ed6d2-6fb3-4af4-a9ac-42181d2fdfd1",
    "deepnote_cell_type": "markdown"
   }
  },
  {
   "cell_type": "code",
   "metadata": {
    "tags": [],
    "cell_id": "00019-475b1a68-5c91-4441-b5ca-82f279639bc2",
    "deepnote_to_be_reexecuted": false,
    "source_hash": "78fd13f2",
    "execution_start": 1639974437486,
    "execution_millis": 11,
    "deepnote_output_heights": [
     59.5625
    ],
    "deepnote_cell_type": "code"
   },
   "source": "missing = df[df['torque'].isnull()]\nmissing_manual = len(missing[missing['transmission'] == 'Manual'])\nmissing_automatic = len(missing[missing['transmission'] == 'Automatic'])\ndf_manual = len(df[df['transmission'] == 'Manual'])\ndf_automatic =len(df[df['transmission'] == 'Automatic'])\n\nmissing_auto_percent =  round((missing_automatic / len(missing) * 100), 4)\ndf_auto_percent = round((df_automatic / len(df) * 100), 4)\nmissing_manual_percent =  round((missing_manual / len(missing) * 100), 4)\ndf_manual_percent = round((df_manual / len(df) * 100), 4)\n\nprint(\"From the missing data, \" + str(missing_manual_percent) + \"% of the cars are Manual transmission.\")\nprint(\"From the overall dataframe, \" + str(df_manual_percent) + \"% of the cars are Manual transmission.\")",
   "execution_count": 7,
   "outputs": [
    {
     "name": "stdout",
     "text": "From the missing data, 95.9459% of the cars are Manual transmission.\nFrom the overall dataframe, 87.0817% of the cars are Manual transmission.\n",
     "output_type": "stream",
     "data": {}
    }
   ]
  },
  {
   "cell_type": "markdown",
   "source": "It does look like a higher percent of the missing data is from cars that are a Manual transmission compared to the percent of cars that are Manual in the overall dataset. This is an interesting note, but it likely doesn't glean any useful insight for us. Besides most of the cars being manual transmission, there is no clear reason why those cars would be missing data.\n\nWhile we're on the topic, automatic vs manual transmission may be confusing to some. Especially for those in the younger audience, manual transmission may be completely foreign. I know that many of my friends have no idea how to drive a manual transmission car! Take a look at the following resource from State Farm to learn more about different transmission types: https://www.statefarm.com/simple-insights/auto-and-vehicles/manual-vs-automatic-transmissions#:~:text=The%20basic%20types%20of%20transmission,engine%20to%20drive%20the%20wheels.&text=Automatic%20cars%20shift%20gears%20on,gears%20with%20the%20stick%20shift\n\nSince almost all the missing data comes from a few select cars (~220 of them of our 8000+ car dataset), which ends up only being around 2.7% of all our data, it makes the most sense to just drop those rows instead of trying to impute the missing values. ",
   "metadata": {
    "tags": [],
    "cell_id": "00021-f195e9f9-d614-4f09-935e-f6712c32e3b6",
    "deepnote_cell_type": "markdown"
   }
  },
  {
   "cell_type": "code",
   "metadata": {
    "tags": [],
    "cell_id": "00023-fe84c1ec-0bf6-41f7-8675-3a7a25fdf478",
    "deepnote_to_be_reexecuted": false,
    "source_hash": "630534c",
    "execution_start": 1639974437519,
    "execution_millis": 31,
    "deepnote_output_heights": [
     270.796875
    ],
    "deepnote_cell_type": "code"
   },
   "source": "# Remove the rows of data with null values\ndf.dropna (inplace = True)\ndf.isnull().sum()",
   "execution_count": 8,
   "outputs": [
    {
     "output_type": "execute_result",
     "execution_count": 8,
     "data": {
      "text/plain": "name             0\nyear             0\nselling_price    0\nkm_driven        0\nfuel             0\nseller_type      0\ntransmission     0\nowner            0\nmileage          0\nengine           0\nmax_power        0\ntorque           0\nseats            0\ndtype: int64"
     },
     "metadata": {}
    }
   ]
  },
  {
   "cell_type": "markdown",
   "source": "Great, now there is no missing data and we can move on with our analysis.",
   "metadata": {
    "tags": [],
    "cell_id": "00024-6e11cc55-bc9b-41e6-b9c6-f2f092dacbff",
    "deepnote_cell_type": "markdown"
   }
  },
  {
   "cell_type": "markdown",
   "source": "### Data Types\nNext up, we can take a look at the types of data we have in each column so we know what we're working with.",
   "metadata": {
    "tags": [],
    "cell_id": "00021-47bab184-47ee-4df4-9d0c-67a545fc6306",
    "deepnote_cell_type": "markdown"
   }
  },
  {
   "cell_type": "code",
   "source": "df.dtypes",
   "metadata": {
    "tags": [],
    "cell_id": "00022-95984d35-2de4-4cfe-b7e9-baacbf33bbcc",
    "deepnote_to_be_reexecuted": false,
    "source_hash": "52430027",
    "execution_start": 1639974437560,
    "execution_millis": 10,
    "deepnote_output_heights": [
     270.796875
    ],
    "deepnote_cell_type": "code"
   },
   "outputs": [
    {
     "output_type": "execute_result",
     "execution_count": 9,
     "data": {
      "text/plain": "name              object\nyear               int64\nselling_price      int64\nkm_driven          int64\nfuel              object\nseller_type       object\ntransmission      object\nowner             object\nmileage           object\nengine            object\nmax_power         object\ntorque            object\nseats            float64\ndtype: object"
     },
     "metadata": {}
    }
   ],
   "execution_count": 9
  },
  {
   "cell_type": "markdown",
   "source": "\nNotice that a lot of our numeric variables are not the right type that we want. For example, mileage and max power should be floats, but they are currently objects. From brief investigation, we can notice that these columns are represented as strings, with the units given in each cell. For example, one cell for mileage says 17.7 kmpl, but we would prefer to have this as the numeric value 17.7 and note the units in the column name.\n\nSo our plan of action will be to extract the numeric values from those columns we need changed, convert the column to those values, and rename the column to signify the units for that category.\n\nThe columns that need work are: mileage, engine, and max_power.",
   "metadata": {
    "tags": [],
    "cell_id": "00008-85dbf024-059c-475e-8903-85088a1265c5",
    "deepnote_cell_type": "markdown"
   }
  },
  {
   "cell_type": "code",
   "metadata": {
    "tags": [],
    "cell_id": "00015-d2e4dd51-155f-4c1f-80e9-14ed7b4fbf72",
    "deepnote_to_be_reexecuted": false,
    "source_hash": "2193021c",
    "execution_start": 1639974437581,
    "execution_millis": 156,
    "deepnote_output_heights": [
     232.25
    ],
    "deepnote_cell_type": "code"
   },
   "source": "# Note the entries are separated by whitespace, split on whitespace to expand into 2 columns\n# Convert that first part to float and ignore the second column\nnumeric_mileage = df['mileage'].str.split(' ', expand = True)[0]\ndf['mileage'] = pd.to_numeric(numeric_mileage)\ndf.rename(columns={\"mileage\":\"mileage (kmpl)\"}, inplace = True)\n\nnumeric_engine = df['engine'].str.split(' ', expand = True)[0]\ndf['engine'] = pd.to_numeric(numeric_engine)\ndf.rename(columns={\"engine\":\"engine (CC)\"}, inplace = True)\n\nnumeric_power = df['max_power'].str.split(' ', expand = True)[0]\ndf['max_power'] = pd.to_numeric(numeric_power)\ndf.rename(columns={\"max_power\":\"max_power (bhp)\"}, inplace = True)",
   "execution_count": 10,
   "outputs": []
  },
  {
   "cell_type": "code",
   "metadata": {
    "tags": [],
    "cell_id": "00023-1fb41a77-e0ae-4659-ac18-8626e8d8c9d8",
    "deepnote_to_be_reexecuted": false,
    "source_hash": "52430027",
    "execution_start": 1639974437744,
    "execution_millis": 188,
    "deepnote_output_heights": [
     270.796875
    ],
    "deepnote_cell_type": "code"
   },
   "source": "df.dtypes",
   "execution_count": 11,
   "outputs": [
    {
     "output_type": "execute_result",
     "execution_count": 11,
     "data": {
      "text/plain": "name                object\nyear                 int64\nselling_price        int64\nkm_driven            int64\nfuel                object\nseller_type         object\ntransmission        object\nowner               object\nmileage (kmpl)     float64\nengine (CC)          int64\nmax_power (bhp)    float64\ntorque              object\nseats              float64\ndtype: object"
     },
     "metadata": {}
    }
   ]
  },
  {
   "cell_type": "code",
   "metadata": {
    "tags": [],
    "cell_id": "00024-5b343529-985c-42f0-bd18-147d206ed63b",
    "deepnote_to_be_reexecuted": false,
    "source_hash": "c085b6ba",
    "execution_start": 1639974437764,
    "execution_millis": 197,
    "deepnote_table_state": {
     "pageSize": 50,
     "pageIndex": 0,
     "filters": [
      {
       "id": "owner",
       "value": "Fourth",
       "type": "contains"
      }
     ],
     "sortBy": []
    },
    "deepnote_table_loading": false,
    "deepnote_cell_type": "code"
   },
   "source": "df.head()",
   "execution_count": 12,
   "outputs": [
    {
     "output_type": "execute_result",
     "execution_count": 12,
     "data": {
      "application/vnd.deepnote.dataframe.v3+json": {
       "column_count": 13,
       "row_count": 0,
       "columns": [
        {
         "name": "name",
         "dtype": "object",
         "stats": {
          "unique_count": 0,
          "nan_count": 0,
          "categories": []
         }
        },
        {
         "name": "year",
         "dtype": "int64",
         "stats": {
          "unique_count": 0,
          "nan_count": 0,
          "min": null,
          "max": null,
          "histogram": [
           {
            "bin_start": 0,
            "bin_end": 0.1,
            "count": 0
           },
           {
            "bin_start": 0.1,
            "bin_end": 0.2,
            "count": 0
           },
           {
            "bin_start": 0.2,
            "bin_end": 0.30000000000000004,
            "count": 0
           },
           {
            "bin_start": 0.30000000000000004,
            "bin_end": 0.4,
            "count": 0
           },
           {
            "bin_start": 0.4,
            "bin_end": 0.5,
            "count": 0
           },
           {
            "bin_start": 0.5,
            "bin_end": 0.6000000000000001,
            "count": 0
           },
           {
            "bin_start": 0.6000000000000001,
            "bin_end": 0.7000000000000001,
            "count": 0
           },
           {
            "bin_start": 0.7000000000000001,
            "bin_end": 0.8,
            "count": 0
           },
           {
            "bin_start": 0.8,
            "bin_end": 0.9,
            "count": 0
           },
           {
            "bin_start": 0.9,
            "bin_end": 1,
            "count": 0
           }
          ]
         }
        },
        {
         "name": "selling_price",
         "dtype": "int64",
         "stats": {
          "unique_count": 0,
          "nan_count": 0,
          "min": null,
          "max": null,
          "histogram": [
           {
            "bin_start": 0,
            "bin_end": 0.1,
            "count": 0
           },
           {
            "bin_start": 0.1,
            "bin_end": 0.2,
            "count": 0
           },
           {
            "bin_start": 0.2,
            "bin_end": 0.30000000000000004,
            "count": 0
           },
           {
            "bin_start": 0.30000000000000004,
            "bin_end": 0.4,
            "count": 0
           },
           {
            "bin_start": 0.4,
            "bin_end": 0.5,
            "count": 0
           },
           {
            "bin_start": 0.5,
            "bin_end": 0.6000000000000001,
            "count": 0
           },
           {
            "bin_start": 0.6000000000000001,
            "bin_end": 0.7000000000000001,
            "count": 0
           },
           {
            "bin_start": 0.7000000000000001,
            "bin_end": 0.8,
            "count": 0
           },
           {
            "bin_start": 0.8,
            "bin_end": 0.9,
            "count": 0
           },
           {
            "bin_start": 0.9,
            "bin_end": 1,
            "count": 0
           }
          ]
         }
        },
        {
         "name": "km_driven",
         "dtype": "int64",
         "stats": {
          "unique_count": 0,
          "nan_count": 0,
          "min": null,
          "max": null,
          "histogram": [
           {
            "bin_start": 0,
            "bin_end": 0.1,
            "count": 0
           },
           {
            "bin_start": 0.1,
            "bin_end": 0.2,
            "count": 0
           },
           {
            "bin_start": 0.2,
            "bin_end": 0.30000000000000004,
            "count": 0
           },
           {
            "bin_start": 0.30000000000000004,
            "bin_end": 0.4,
            "count": 0
           },
           {
            "bin_start": 0.4,
            "bin_end": 0.5,
            "count": 0
           },
           {
            "bin_start": 0.5,
            "bin_end": 0.6000000000000001,
            "count": 0
           },
           {
            "bin_start": 0.6000000000000001,
            "bin_end": 0.7000000000000001,
            "count": 0
           },
           {
            "bin_start": 0.7000000000000001,
            "bin_end": 0.8,
            "count": 0
           },
           {
            "bin_start": 0.8,
            "bin_end": 0.9,
            "count": 0
           },
           {
            "bin_start": 0.9,
            "bin_end": 1,
            "count": 0
           }
          ]
         }
        },
        {
         "name": "fuel",
         "dtype": "object",
         "stats": {
          "unique_count": 0,
          "nan_count": 0,
          "categories": []
         }
        },
        {
         "name": "seller_type",
         "dtype": "object",
         "stats": {
          "unique_count": 0,
          "nan_count": 0,
          "categories": []
         }
        },
        {
         "name": "transmission",
         "dtype": "object",
         "stats": {
          "unique_count": 0,
          "nan_count": 0,
          "categories": []
         }
        },
        {
         "name": "owner",
         "dtype": "object",
         "stats": {
          "unique_count": 0,
          "nan_count": 0,
          "categories": []
         }
        },
        {
         "name": "mileage (kmpl)",
         "dtype": "float64",
         "stats": {
          "unique_count": 0,
          "nan_count": 0,
          "min": null,
          "max": null,
          "histogram": [
           {
            "bin_start": 0,
            "bin_end": 0.1,
            "count": 0
           },
           {
            "bin_start": 0.1,
            "bin_end": 0.2,
            "count": 0
           },
           {
            "bin_start": 0.2,
            "bin_end": 0.30000000000000004,
            "count": 0
           },
           {
            "bin_start": 0.30000000000000004,
            "bin_end": 0.4,
            "count": 0
           },
           {
            "bin_start": 0.4,
            "bin_end": 0.5,
            "count": 0
           },
           {
            "bin_start": 0.5,
            "bin_end": 0.6000000000000001,
            "count": 0
           },
           {
            "bin_start": 0.6000000000000001,
            "bin_end": 0.7000000000000001,
            "count": 0
           },
           {
            "bin_start": 0.7000000000000001,
            "bin_end": 0.8,
            "count": 0
           },
           {
            "bin_start": 0.8,
            "bin_end": 0.9,
            "count": 0
           },
           {
            "bin_start": 0.9,
            "bin_end": 1,
            "count": 0
           }
          ]
         }
        },
        {
         "name": "engine (CC)",
         "dtype": "int64",
         "stats": {
          "unique_count": 0,
          "nan_count": 0,
          "min": null,
          "max": null,
          "histogram": [
           {
            "bin_start": 0,
            "bin_end": 0.1,
            "count": 0
           },
           {
            "bin_start": 0.1,
            "bin_end": 0.2,
            "count": 0
           },
           {
            "bin_start": 0.2,
            "bin_end": 0.30000000000000004,
            "count": 0
           },
           {
            "bin_start": 0.30000000000000004,
            "bin_end": 0.4,
            "count": 0
           },
           {
            "bin_start": 0.4,
            "bin_end": 0.5,
            "count": 0
           },
           {
            "bin_start": 0.5,
            "bin_end": 0.6000000000000001,
            "count": 0
           },
           {
            "bin_start": 0.6000000000000001,
            "bin_end": 0.7000000000000001,
            "count": 0
           },
           {
            "bin_start": 0.7000000000000001,
            "bin_end": 0.8,
            "count": 0
           },
           {
            "bin_start": 0.8,
            "bin_end": 0.9,
            "count": 0
           },
           {
            "bin_start": 0.9,
            "bin_end": 1,
            "count": 0
           }
          ]
         }
        },
        {
         "name": "max_power (bhp)",
         "dtype": "float64",
         "stats": {
          "unique_count": 0,
          "nan_count": 0,
          "min": null,
          "max": null,
          "histogram": [
           {
            "bin_start": 0,
            "bin_end": 0.1,
            "count": 0
           },
           {
            "bin_start": 0.1,
            "bin_end": 0.2,
            "count": 0
           },
           {
            "bin_start": 0.2,
            "bin_end": 0.30000000000000004,
            "count": 0
           },
           {
            "bin_start": 0.30000000000000004,
            "bin_end": 0.4,
            "count": 0
           },
           {
            "bin_start": 0.4,
            "bin_end": 0.5,
            "count": 0
           },
           {
            "bin_start": 0.5,
            "bin_end": 0.6000000000000001,
            "count": 0
           },
           {
            "bin_start": 0.6000000000000001,
            "bin_end": 0.7000000000000001,
            "count": 0
           },
           {
            "bin_start": 0.7000000000000001,
            "bin_end": 0.8,
            "count": 0
           },
           {
            "bin_start": 0.8,
            "bin_end": 0.9,
            "count": 0
           },
           {
            "bin_start": 0.9,
            "bin_end": 1,
            "count": 0
           }
          ]
         }
        },
        {
         "name": "torque",
         "dtype": "object",
         "stats": {
          "unique_count": 0,
          "nan_count": 0,
          "categories": []
         }
        },
        {
         "name": "seats",
         "dtype": "float64",
         "stats": {
          "unique_count": 0,
          "nan_count": 0,
          "min": null,
          "max": null,
          "histogram": [
           {
            "bin_start": 0,
            "bin_end": 0.1,
            "count": 0
           },
           {
            "bin_start": 0.1,
            "bin_end": 0.2,
            "count": 0
           },
           {
            "bin_start": 0.2,
            "bin_end": 0.30000000000000004,
            "count": 0
           },
           {
            "bin_start": 0.30000000000000004,
            "bin_end": 0.4,
            "count": 0
           },
           {
            "bin_start": 0.4,
            "bin_end": 0.5,
            "count": 0
           },
           {
            "bin_start": 0.5,
            "bin_end": 0.6000000000000001,
            "count": 0
           },
           {
            "bin_start": 0.6000000000000001,
            "bin_end": 0.7000000000000001,
            "count": 0
           },
           {
            "bin_start": 0.7000000000000001,
            "bin_end": 0.8,
            "count": 0
           },
           {
            "bin_start": 0.8,
            "bin_end": 0.9,
            "count": 0
           },
           {
            "bin_start": 0.9,
            "bin_end": 1,
            "count": 0
           }
          ]
         }
        },
        {
         "name": "_deepnote_index_column",
         "dtype": "int64"
        }
       ],
       "rows": []
      },
      "text/plain": "                           name  year  selling_price  km_driven    fuel  \\\n0        Maruti Swift Dzire VDI  2014         450000     145500  Diesel   \n1  Skoda Rapid 1.5 TDI Ambition  2014         370000     120000  Diesel   \n2      Honda City 2017-2020 EXi  2006         158000     140000  Petrol   \n3     Hyundai i20 Sportz Diesel  2010         225000     127000  Diesel   \n4        Maruti Swift VXI BSIII  2007         130000     120000  Petrol   \n\n  seller_type transmission         owner  mileage (kmpl)  engine (CC)  \\\n0  Individual       Manual   First Owner           23.40         1248   \n1  Individual       Manual  Second Owner           21.14         1498   \n2  Individual       Manual   Third Owner           17.70         1497   \n3  Individual       Manual   First Owner           23.00         1396   \n4  Individual       Manual   First Owner           16.10         1298   \n\n   max_power (bhp)                    torque  seats  \n0            74.00            190Nm@ 2000rpm    5.0  \n1           103.52       250Nm@ 1500-2500rpm    5.0  \n2            78.00     12.7@ 2,700(kgm@ rpm)    5.0  \n3            90.00  22.4 kgm at 1750-2750rpm    5.0  \n4            88.20     11.5@ 4,500(kgm@ rpm)    5.0  ",
      "text/html": "<div>\n<style scoped>\n    .dataframe tbody tr th:only-of-type {\n        vertical-align: middle;\n    }\n\n    .dataframe tbody tr th {\n        vertical-align: top;\n    }\n\n    .dataframe thead th {\n        text-align: right;\n    }\n</style>\n<table border=\"1\" class=\"dataframe\">\n  <thead>\n    <tr style=\"text-align: right;\">\n      <th></th>\n      <th>name</th>\n      <th>year</th>\n      <th>selling_price</th>\n      <th>km_driven</th>\n      <th>fuel</th>\n      <th>seller_type</th>\n      <th>transmission</th>\n      <th>owner</th>\n      <th>mileage (kmpl)</th>\n      <th>engine (CC)</th>\n      <th>max_power (bhp)</th>\n      <th>torque</th>\n      <th>seats</th>\n    </tr>\n  </thead>\n  <tbody>\n    <tr>\n      <th>0</th>\n      <td>Maruti Swift Dzire VDI</td>\n      <td>2014</td>\n      <td>450000</td>\n      <td>145500</td>\n      <td>Diesel</td>\n      <td>Individual</td>\n      <td>Manual</td>\n      <td>First Owner</td>\n      <td>23.40</td>\n      <td>1248</td>\n      <td>74.00</td>\n      <td>190Nm@ 2000rpm</td>\n      <td>5.0</td>\n    </tr>\n    <tr>\n      <th>1</th>\n      <td>Skoda Rapid 1.5 TDI Ambition</td>\n      <td>2014</td>\n      <td>370000</td>\n      <td>120000</td>\n      <td>Diesel</td>\n      <td>Individual</td>\n      <td>Manual</td>\n      <td>Second Owner</td>\n      <td>21.14</td>\n      <td>1498</td>\n      <td>103.52</td>\n      <td>250Nm@ 1500-2500rpm</td>\n      <td>5.0</td>\n    </tr>\n    <tr>\n      <th>2</th>\n      <td>Honda City 2017-2020 EXi</td>\n      <td>2006</td>\n      <td>158000</td>\n      <td>140000</td>\n      <td>Petrol</td>\n      <td>Individual</td>\n      <td>Manual</td>\n      <td>Third Owner</td>\n      <td>17.70</td>\n      <td>1497</td>\n      <td>78.00</td>\n      <td>12.7@ 2,700(kgm@ rpm)</td>\n      <td>5.0</td>\n    </tr>\n    <tr>\n      <th>3</th>\n      <td>Hyundai i20 Sportz Diesel</td>\n      <td>2010</td>\n      <td>225000</td>\n      <td>127000</td>\n      <td>Diesel</td>\n      <td>Individual</td>\n      <td>Manual</td>\n      <td>First Owner</td>\n      <td>23.00</td>\n      <td>1396</td>\n      <td>90.00</td>\n      <td>22.4 kgm at 1750-2750rpm</td>\n      <td>5.0</td>\n    </tr>\n    <tr>\n      <th>4</th>\n      <td>Maruti Swift VXI BSIII</td>\n      <td>2007</td>\n      <td>130000</td>\n      <td>120000</td>\n      <td>Petrol</td>\n      <td>Individual</td>\n      <td>Manual</td>\n      <td>First Owner</td>\n      <td>16.10</td>\n      <td>1298</td>\n      <td>88.20</td>\n      <td>11.5@ 4,500(kgm@ rpm)</td>\n      <td>5.0</td>\n    </tr>\n  </tbody>\n</table>\n</div>"
     },
     "metadata": {}
    }
   ]
  },
  {
   "cell_type": "markdown",
   "source": "Note that the data types are now accurate and the units are now included in the column.\n\nNow the next issue we have is the various forms of categorical data. We have several types of fuel (Petrol, Diesel), transmission (Manual, Automatic), and the owner column is represented as a string instead of a numeric value. We want to portray the ordering for owner in particular, so that the 1st owner can be compared to 3rd owner. We will deal with the owner column first.\n\nWe will simply convert the strings to their respective integer. So \"First Owner -> 1\", etc.",
   "metadata": {
    "tags": [],
    "cell_id": "00025-0097dedd-2b85-47e2-85cf-c60f9286c450",
    "deepnote_cell_type": "markdown"
   }
  },
  {
   "cell_type": "code",
   "metadata": {
    "tags": [],
    "cell_id": "00027-3bc59956-a574-4ada-bcb7-59a4f8bccdff",
    "deepnote_to_be_reexecuted": false,
    "source_hash": "55bdae97",
    "execution_start": 1639974437974,
    "execution_millis": 14,
    "deepnote_cell_type": "code"
   },
   "source": "map_dict = {\"First Owner\": 1, \"Second Owner\": 2, \"Third Owner\": 3, \"Fourth & Above Owner\": 4}\ndf[\"owner\"] = df[\"owner\"].map(map_dict)",
   "execution_count": 13,
   "outputs": []
  },
  {
   "cell_type": "markdown",
   "source": "The last thing we want to do is convert the selling price into USD. Since this dataset is from an Indian car website, all the prices are in rupees. While this is not necessary, since most of us are more accustomed to working with USD than rupees, we are going to convert this data. Doing this ahead of time will make graphs easier to read and make our analysis more relevant to us. We are going to convert selling price at the current exchange rate (as of December 2021) of 1 rupee to .013 USD.",
   "metadata": {
    "tags": [],
    "cell_id": "00031-825c7b14-c32a-4e28-a829-f871a449d913",
    "deepnote_cell_type": "markdown"
   }
  },
  {
   "cell_type": "code",
   "metadata": {
    "tags": [],
    "cell_id": "00032-f6534dfb-a385-4f9a-849d-c3666f3eb819",
    "deepnote_to_be_reexecuted": false,
    "source_hash": "72678277",
    "execution_start": 1639974438014,
    "execution_millis": 8,
    "deepnote_cell_type": "code"
   },
   "source": "df['selling_price'] = df['selling_price'] * .013",
   "execution_count": 14,
   "outputs": []
  },
  {
   "cell_type": "markdown",
   "source": "Our data looks good! We have no missing data and every piece of data we want to use has been properly converted to its necessary type. Our column labels are good. The last thing we want to do is drop the columns we will not be using further, then we will continue to data visualization.\n\nWe drop these particular columns for a number of reasons. However, in general, we don't think that these columns will help our analysis very much, or are too complex to wrangle with for the minimal value we think they'll provide.",
   "metadata": {
    "tags": [],
    "cell_id": "00030-6b27a531-d8fe-410f-9168-30e3e50d8b92",
    "deepnote_cell_type": "markdown"
   }
  },
  {
   "cell_type": "code",
   "metadata": {
    "tags": [],
    "cell_id": "00031-1efbf839-f269-4725-982c-7f4909635745",
    "deepnote_to_be_reexecuted": false,
    "source_hash": "b92febf9",
    "execution_start": 1639974438034,
    "execution_millis": 11,
    "deepnote_cell_type": "code"
   },
   "source": "df.drop(columns=['name','seller_type','engine (CC)','torque'], inplace = True)",
   "execution_count": 15,
   "outputs": []
  },
  {
   "cell_type": "markdown",
   "source": "## Part 3: Data Visualization",
   "metadata": {
    "id": "ia6RN_GPXiZ0",
    "cell_id": "00007-906ba21f-94ea-433d-9790-19533c44ed27",
    "deepnote_cell_type": "markdown"
   }
  },
  {
   "cell_type": "markdown",
   "source": "### Predictions\n\nBefore we do any direct analysis or visualization, let's first hypothesize what relationships we may find. We will then make graphs to investigate these relationships and then use statistic tests and machine learning models to confirm or deny these hypotheses.\n\nThe parameters we will be investigating (as selling price being the dependent variable) are:\n* year\n* km driven\n* owner\n* mileage\n* max engine power\n* seats\n\nFor these variables, we predict:\n* As year goes up, selling price goes up (since newer cars are going to be more expensive)\n* As km driven goes up, selling price goes down (the car will be more used, thus cheaper)\n* As there are more owners, selling price goes down (the car will be more used)\n    * This may be directly related to many of the other variables -- as there are more owners, the car is likely older and the car is likely more used\n* As mileage goes up, selling price goes up (since high mileage cars are more desirable)\n    * This may need to be compared with year/km driven for accurate statistics\n* As max engine power goes up, selling price goes up (since powerful cars are more desirable)\n    * We could potentially see the opposite, since high power may lead to deterioration for the car\n* As number of seats go up, selling price goes up (larger cars are more expensive)",
   "metadata": {
    "tags": [],
    "cell_id": "00023-f8c4c3e0-e13a-4ebb-ab3f-04711c0058db",
    "deepnote_cell_type": "markdown"
   }
  },
  {
   "cell_type": "markdown",
   "source": "We will start by taking the mean value of each column, grouped by year.",
   "metadata": {
    "tags": [],
    "cell_id": "00034-31506625-1625-4756-8602-abc73d753102",
    "deepnote_cell_type": "markdown"
   }
  },
  {
   "cell_type": "code",
   "metadata": {
    "tags": [],
    "cell_id": "00034-fba7f292-7ddc-4e16-8a61-8d20bcf79f0a",
    "deepnote_to_be_reexecuted": false,
    "source_hash": "18c33615",
    "execution_start": 1639974438058,
    "execution_millis": 125,
    "deepnote_output_heights": [
     21.1875
    ],
    "deepnote_cell_type": "code"
   },
   "source": "grouped = df.groupby(['year'], as_index = False).mean()\ngrouped.head()",
   "execution_count": 16,
   "outputs": [
    {
     "output_type": "execute_result",
     "execution_count": 16,
     "data": {
      "application/vnd.deepnote.dataframe.v3+json": {
       "column_count": 7,
       "row_count": 5,
       "columns": [
        {
         "name": "year",
         "dtype": "int64",
         "stats": {
          "unique_count": 5,
          "nan_count": 0,
          "min": "1994",
          "max": "1998",
          "histogram": [
           {
            "bin_start": 1994,
            "bin_end": 1994.4,
            "count": 1
           },
           {
            "bin_start": 1994.4,
            "bin_end": 1994.8,
            "count": 0
           },
           {
            "bin_start": 1994.8,
            "bin_end": 1995.2,
            "count": 1
           },
           {
            "bin_start": 1995.2,
            "bin_end": 1995.6,
            "count": 0
           },
           {
            "bin_start": 1995.6,
            "bin_end": 1996,
            "count": 0
           },
           {
            "bin_start": 1996,
            "bin_end": 1996.4,
            "count": 1
           },
           {
            "bin_start": 1996.4,
            "bin_end": 1996.8,
            "count": 0
           },
           {
            "bin_start": 1996.8,
            "bin_end": 1997.2,
            "count": 1
           },
           {
            "bin_start": 1997.2,
            "bin_end": 1997.6,
            "count": 0
           },
           {
            "bin_start": 1997.6,
            "bin_end": 1998,
            "count": 1
           }
          ]
         }
        },
        {
         "name": "selling_price",
         "dtype": "float64",
         "stats": {
          "unique_count": 5,
          "nan_count": 0,
          "min": "533.0",
          "max": "1119.4430000000002",
          "histogram": [
           {
            "bin_start": 533,
            "bin_end": 591.6443,
            "count": 1
           },
           {
            "bin_start": 591.6443,
            "bin_end": 650.2886000000001,
            "count": 0
           },
           {
            "bin_start": 650.2886000000001,
            "bin_end": 708.9329,
            "count": 0
           },
           {
            "bin_start": 708.9329,
            "bin_end": 767.5772000000001,
            "count": 2
           },
           {
            "bin_start": 767.5772000000001,
            "bin_end": 826.2215000000001,
            "count": 0
           },
           {
            "bin_start": 826.2215000000001,
            "bin_end": 884.8658000000001,
            "count": 0
           },
           {
            "bin_start": 884.8658000000001,
            "bin_end": 943.5101000000002,
            "count": 1
           },
           {
            "bin_start": 943.5101000000002,
            "bin_end": 1002.1544000000001,
            "count": 0
           },
           {
            "bin_start": 1002.1544000000001,
            "bin_end": 1060.7987000000003,
            "count": 0
           },
           {
            "bin_start": 1060.7987000000003,
            "bin_end": 1119.4430000000002,
            "count": 1
           }
          ]
         }
        },
        {
         "name": "km_driven",
         "dtype": "float64",
         "stats": {
          "unique_count": 5,
          "nan_count": 0,
          "min": "51000.0",
          "max": "99487.55555555556",
          "histogram": [
           {
            "bin_start": 51000,
            "bin_end": 55848.75555555556,
            "count": 1
           },
           {
            "bin_start": 55848.75555555556,
            "bin_end": 60697.51111111111,
            "count": 0
           },
           {
            "bin_start": 60697.51111111111,
            "bin_end": 65546.26666666666,
            "count": 0
           },
           {
            "bin_start": 65546.26666666666,
            "bin_end": 70395.02222222222,
            "count": 1
           },
           {
            "bin_start": 70395.02222222222,
            "bin_end": 75243.77777777778,
            "count": 1
           },
           {
            "bin_start": 75243.77777777778,
            "bin_end": 80092.53333333334,
            "count": 1
           },
           {
            "bin_start": 80092.53333333334,
            "bin_end": 84941.2888888889,
            "count": 0
           },
           {
            "bin_start": 84941.2888888889,
            "bin_end": 89790.04444444444,
            "count": 0
           },
           {
            "bin_start": 89790.04444444444,
            "bin_end": 94638.80000000002,
            "count": 0
           },
           {
            "bin_start": 94638.80000000002,
            "bin_end": 99487.55555555556,
            "count": 1
           }
          ]
         }
        },
        {
         "name": "owner",
         "dtype": "float64",
         "stats": {
          "unique_count": 4,
          "nan_count": 0,
          "min": "1.0",
          "max": "2.5",
          "histogram": [
           {
            "bin_start": 1,
            "bin_end": 1.15,
            "count": 1
           },
           {
            "bin_start": 1.15,
            "bin_end": 1.3,
            "count": 0
           },
           {
            "bin_start": 1.3,
            "bin_end": 1.45,
            "count": 0
           },
           {
            "bin_start": 1.45,
            "bin_end": 1.6,
            "count": 1
           },
           {
            "bin_start": 1.6,
            "bin_end": 1.75,
            "count": 0
           },
           {
            "bin_start": 1.75,
            "bin_end": 1.9,
            "count": 0
           },
           {
            "bin_start": 1.9,
            "bin_end": 2.05,
            "count": 0
           },
           {
            "bin_start": 2.05,
            "bin_end": 2.2,
            "count": 0
           },
           {
            "bin_start": 2.2,
            "bin_end": 2.3499999999999996,
            "count": 2
           },
           {
            "bin_start": 2.3499999999999996,
            "bin_end": 2.5,
            "count": 1
           }
          ]
         }
        },
        {
         "name": "mileage (kmpl)",
         "dtype": "float64",
         "stats": {
          "unique_count": 4,
          "nan_count": 0,
          "min": "14.450000000000001",
          "max": "16.1",
          "histogram": [
           {
            "bin_start": 14.450000000000001,
            "bin_end": 14.615000000000002,
            "count": 1
           },
           {
            "bin_start": 14.615000000000002,
            "bin_end": 14.780000000000001,
            "count": 0
           },
           {
            "bin_start": 14.780000000000001,
            "bin_end": 14.945,
            "count": 0
           },
           {
            "bin_start": 14.945,
            "bin_end": 15.110000000000001,
            "count": 0
           },
           {
            "bin_start": 15.110000000000001,
            "bin_end": 15.275000000000002,
            "count": 0
           },
           {
            "bin_start": 15.275000000000002,
            "bin_end": 15.440000000000001,
            "count": 0
           },
           {
            "bin_start": 15.440000000000001,
            "bin_end": 15.605,
            "count": 0
           },
           {
            "bin_start": 15.605,
            "bin_end": 15.770000000000001,
            "count": 0
           },
           {
            "bin_start": 15.770000000000001,
            "bin_end": 15.935000000000002,
            "count": 1
           },
           {
            "bin_start": 15.935000000000002,
            "bin_end": 16.1,
            "count": 3
           }
          ]
         }
        },
        {
         "name": "max_power (bhp)",
         "dtype": "float64",
         "stats": {
          "unique_count": 4,
          "nan_count": 0,
          "min": "37.0",
          "max": "49.666666666666664",
          "histogram": [
           {
            "bin_start": 37,
            "bin_end": 38.266666666666666,
            "count": 2
           },
           {
            "bin_start": 38.266666666666666,
            "bin_end": 39.53333333333333,
            "count": 0
           },
           {
            "bin_start": 39.53333333333333,
            "bin_end": 40.8,
            "count": 0
           },
           {
            "bin_start": 40.8,
            "bin_end": 42.06666666666666,
            "count": 0
           },
           {
            "bin_start": 42.06666666666666,
            "bin_end": 43.33333333333333,
            "count": 0
           },
           {
            "bin_start": 43.33333333333333,
            "bin_end": 44.599999999999994,
            "count": 1
           },
           {
            "bin_start": 44.599999999999994,
            "bin_end": 45.86666666666667,
            "count": 0
           },
           {
            "bin_start": 45.86666666666667,
            "bin_end": 47.13333333333333,
            "count": 0
           },
           {
            "bin_start": 47.13333333333333,
            "bin_end": 48.4,
            "count": 0
           },
           {
            "bin_start": 48.4,
            "bin_end": 49.666666666666664,
            "count": 2
           }
          ]
         }
        },
        {
         "name": "seats",
         "dtype": "float64",
         "stats": {
          "unique_count": 4,
          "nan_count": 0,
          "min": "4.0",
          "max": "4.666666666666667",
          "histogram": [
           {
            "bin_start": 4,
            "bin_end": 4.066666666666666,
            "count": 2
           },
           {
            "bin_start": 4.066666666666666,
            "bin_end": 4.133333333333334,
            "count": 0
           },
           {
            "bin_start": 4.133333333333334,
            "bin_end": 4.2,
            "count": 0
           },
           {
            "bin_start": 4.2,
            "bin_end": 4.266666666666667,
            "count": 0
           },
           {
            "bin_start": 4.266666666666667,
            "bin_end": 4.333333333333334,
            "count": 0
           },
           {
            "bin_start": 4.333333333333334,
            "bin_end": 4.4,
            "count": 0
           },
           {
            "bin_start": 4.4,
            "bin_end": 4.466666666666667,
            "count": 0
           },
           {
            "bin_start": 4.466666666666667,
            "bin_end": 4.533333333333333,
            "count": 1
           },
           {
            "bin_start": 4.533333333333333,
            "bin_end": 4.6000000000000005,
            "count": 1
           },
           {
            "bin_start": 4.6000000000000005,
            "bin_end": 4.666666666666667,
            "count": 1
           }
          ]
         }
        },
        {
         "name": "_deepnote_index_column",
         "dtype": "int64"
        }
       ],
       "rows": [
        {
         "year": 1994,
         "selling_price": 936,
         "km_driven": 80000,
         "owner": 1.5,
         "mileage (kmpl)": 14.450000000000001,
         "max_power (bhp)": 44.5,
         "seats": 4.5,
         "_deepnote_index_column": 0
        },
        {
         "year": 1995,
         "selling_price": 715,
         "km_driven": 70000,
         "owner": 1,
         "mileage (kmpl)": 16.1,
         "max_power (bhp)": 37,
         "seats": 4,
         "_deepnote_index_column": 1
        },
        {
         "year": 1996,
         "selling_price": 533,
         "km_driven": 51000,
         "owner": 2.5,
         "mileage (kmpl)": 16.1,
         "max_power (bhp)": 37,
         "seats": 4,
         "_deepnote_index_column": 2
        },
        {
         "year": 1997,
         "selling_price": 1119.4430000000002,
         "km_driven": 99487.55555555556,
         "owner": 2.3333333333333335,
         "mileage (kmpl)": 16.066666666666666,
         "max_power (bhp)": 49.666666666666664,
         "seats": 4.666666666666667,
         "_deepnote_index_column": 3
        },
        {
         "year": 1998,
         "selling_price": 752.5555555555555,
         "km_driven": 71111.11111111111,
         "owner": 2.3333333333333335,
         "mileage (kmpl)": 15.933333333333334,
         "max_power (bhp)": 48.888888888888886,
         "seats": 4.555555555555555,
         "_deepnote_index_column": 4
        }
       ]
      },
      "text/plain": "   year  selling_price     km_driven     owner  mileage (kmpl)  \\\n0  1994     936.000000  80000.000000  1.500000       14.450000   \n1  1995     715.000000  70000.000000  1.000000       16.100000   \n2  1996     533.000000  51000.000000  2.500000       16.100000   \n3  1997    1119.443000  99487.555556  2.333333       16.066667   \n4  1998     752.555556  71111.111111  2.333333       15.933333   \n\n   max_power (bhp)     seats  \n0        44.500000  4.500000  \n1        37.000000  4.000000  \n2        37.000000  4.000000  \n3        49.666667  4.666667  \n4        48.888889  4.555556  ",
      "text/html": "<div>\n<style scoped>\n    .dataframe tbody tr th:only-of-type {\n        vertical-align: middle;\n    }\n\n    .dataframe tbody tr th {\n        vertical-align: top;\n    }\n\n    .dataframe thead th {\n        text-align: right;\n    }\n</style>\n<table border=\"1\" class=\"dataframe\">\n  <thead>\n    <tr style=\"text-align: right;\">\n      <th></th>\n      <th>year</th>\n      <th>selling_price</th>\n      <th>km_driven</th>\n      <th>owner</th>\n      <th>mileage (kmpl)</th>\n      <th>max_power (bhp)</th>\n      <th>seats</th>\n    </tr>\n  </thead>\n  <tbody>\n    <tr>\n      <th>0</th>\n      <td>1994</td>\n      <td>936.000000</td>\n      <td>80000.000000</td>\n      <td>1.500000</td>\n      <td>14.450000</td>\n      <td>44.500000</td>\n      <td>4.500000</td>\n    </tr>\n    <tr>\n      <th>1</th>\n      <td>1995</td>\n      <td>715.000000</td>\n      <td>70000.000000</td>\n      <td>1.000000</td>\n      <td>16.100000</td>\n      <td>37.000000</td>\n      <td>4.000000</td>\n    </tr>\n    <tr>\n      <th>2</th>\n      <td>1996</td>\n      <td>533.000000</td>\n      <td>51000.000000</td>\n      <td>2.500000</td>\n      <td>16.100000</td>\n      <td>37.000000</td>\n      <td>4.000000</td>\n    </tr>\n    <tr>\n      <th>3</th>\n      <td>1997</td>\n      <td>1119.443000</td>\n      <td>99487.555556</td>\n      <td>2.333333</td>\n      <td>16.066667</td>\n      <td>49.666667</td>\n      <td>4.666667</td>\n    </tr>\n    <tr>\n      <th>4</th>\n      <td>1998</td>\n      <td>752.555556</td>\n      <td>71111.111111</td>\n      <td>2.333333</td>\n      <td>15.933333</td>\n      <td>48.888889</td>\n      <td>4.555556</td>\n    </tr>\n  </tbody>\n</table>\n</div>"
     },
     "metadata": {}
    }
   ]
  },
  {
   "cell_type": "code",
   "metadata": {
    "tags": [],
    "cell_id": "00035-f61a41c1-8618-4894-b02f-5f382940e4c9",
    "deepnote_to_be_reexecuted": false,
    "source_hash": "8d893761",
    "execution_start": 1639974438188,
    "execution_millis": 1228,
    "deepnote_output_heights": [
     59.59375,
     280
    ],
    "deepnote_cell_type": "code"
   },
   "source": "sns.regplot(data=grouped, x=\"year\", y=\"selling_price\")\nsns.regplot(x=\"year\", y=\"selling_price\", data=grouped, order = 2).set(title= \"Average Selling Price vs. Year\",\nxlabel = \"Year\", ylabel = \"Selling Price USD\")\n",
   "execution_count": 17,
   "outputs": [
    {
     "output_type": "execute_result",
     "execution_count": 17,
     "data": {
      "text/plain": "[Text(0.5, 1.0, 'Average Selling Price vs. Year'),\n Text(0.5, 0, 'Year'),\n Text(0, 0.5, 'Selling Price USD')]"
     },
     "metadata": {}
    },
    {
     "data": {
      "text/plain": "<Figure size 432x288 with 1 Axes>",
      "image/png": "[encoded data removed]"
     },
     "metadata": {
      "needs_background": "light",
      "image/png": {
       "width": 403,
       "height": 278
      }
     },
     "output_type": "display_data"
    }
   ]
  },
  {
   "cell_type": "markdown",
   "source": "This is a graph of the average selling price of cars by year. We overlay two regression lines - a linear regression line in blue and a quadratic regression line in orange. We can see our hypothesis of selling price increasing as year increases is supported by this graph. \n\nInterestingly, this is clearly not a linear relationship, as the selling price of used cars from 1995-2005 are very similar, but they increase very quickly from 2010-2020. In fact, the quadratic regression line fits almost perfectly. This shows that very new cars are much more expensive than old cars, but all cars older than around 10 years ago are around the same price.",
   "metadata": {
    "tags": [],
    "cell_id": "00036-66074de6-3241-4ed8-85bd-70ed8f4bb8be",
    "deepnote_cell_type": "markdown"
   }
  },
  {
   "cell_type": "markdown",
   "source": "Next, we'll look at Selling Price vs. Kilometers Driven. Since there are too many datapoints to make this graph readable, we will take a random subset of our data frame to provide a semi-accurate representation of our total data.",
   "metadata": {
    "tags": [],
    "cell_id": "00039-1f213d2a-c104-48f0-8021-db7b77fb27e2",
    "deepnote_cell_type": "markdown"
   }
  },
  {
   "cell_type": "code",
   "metadata": {
    "tags": [],
    "cell_id": "00036-4668d5ac-ebaf-40f6-95d0-d92a549a8d0d",
    "deepnote_to_be_reexecuted": false,
    "source_hash": "5ab86f39",
    "execution_start": 1639974439425,
    "execution_millis": 888,
    "deepnote_output_heights": [
     59.59375,
     280
    ],
    "deepnote_cell_type": "code"
   },
   "source": "sample = df.sample(n=100)\nsample\nsns.regplot(data=sample, x=\"km_driven\", y=\"selling_price\").set(title= \"Selling Price vs. Kilometers Driven\",\nxlabel = \"Kilometers Driven\", ylabel = \"Selling Price USD\")",
   "execution_count": 18,
   "outputs": [
    {
     "output_type": "execute_result",
     "execution_count": 18,
     "data": {
      "text/plain": "[Text(0.5, 1.0, 'Selling Price vs. Kilometers Driven'),\n Text(0.5, 0, 'Kilometers Driven'),\n Text(0, 0.5, 'Selling Price USD')]"
     },
     "metadata": {}
    },
    {
     "data": {
      "text/plain": "<Figure size 432x288 with 1 Axes>",
      "image/png": "[encoded data removed]"
     },
     "metadata": {
      "needs_background": "light",
      "image/png": {
       "width": 405,
       "height": 278
      }
     },
     "output_type": "display_data"
    }
   ]
  },
  {
   "cell_type": "markdown",
   "source": "We can see our hypothesis of selling price decreasing as kilometers driven increases is  supported by this graph. There seems to be a general relationship of price decreasing as km driven goes up but there are clearly outliers to this relationship. This shows that km driven certainly has an impact, but it is not the most important factor - other variables are definitely coming into play.",
   "metadata": {
    "tags": [],
    "cell_id": "00040-351d52c0-430b-44c0-9c3e-dfd633976270",
    "deepnote_cell_type": "markdown"
   }
  },
  {
   "cell_type": "code",
   "metadata": {
    "tags": [],
    "cell_id": "00042-ee06ca50-7710-4d51-8702-e333fe2c85ad",
    "deepnote_to_be_reexecuted": false,
    "source_hash": "5d7a9945",
    "execution_start": 1639974440144,
    "execution_millis": 437,
    "deepnote_output_heights": [
     59.59375,
     280
    ],
    "deepnote_cell_type": "code"
   },
   "source": "grouped = df.groupby(['owner'], as_index = False).mean()\nsns.barplot(data=grouped, x=\"owner\", y=\"selling_price\").set(title= \"Average Selling Price vs. # Owners\",\nxlabel = \"# Owners\", ylabel = \"Selling Price USD\")",
   "execution_count": 19,
   "outputs": [
    {
     "output_type": "execute_result",
     "execution_count": 19,
     "data": {
      "text/plain": "[Text(0.5, 1.0, 'Average Selling Price vs. # Owners'),\n Text(0.5, 0, '# Owners'),\n Text(0, 0.5, 'Selling Price USD')]"
     },
     "metadata": {}
    },
    {
     "data": {
      "text/plain": "<Figure size 432x288 with 1 Axes>",
      "image/png": "[encoded data removed]"
     },
     "metadata": {
      "needs_background": "light",
      "image/png": {
       "width": 401,
       "height": 278
      }
     },
     "output_type": "display_data"
    }
   ]
  },
  {
   "cell_type": "markdown",
   "source": "We can see our hypothesis of selling price decreasing as number of owners increases is confirmed by this graph. The averages of having 2-4 owners are somewhat similar, with 1 owner clearly leading to a higher selling price. But again, there may be multiple variables at play here that we just can't see. There is no reason to assume that it is strictly the number of owners decreasing the value of these cars. For example, the decrease in price may be explained by other factors, such as more owners equating to older cars in general. ",
   "metadata": {
    "tags": [],
    "cell_id": "00043-16c31395-d7a1-4eb1-86b0-fcbe16263bd6",
    "deepnote_cell_type": "markdown"
   }
  },
  {
   "cell_type": "code",
   "metadata": {
    "tags": [],
    "cell_id": "00044-a26aebfc-3b47-4ef7-949c-6f82d9bb0c3f",
    "deepnote_to_be_reexecuted": false,
    "source_hash": "e59d3eec",
    "execution_start": 1639974440591,
    "execution_millis": 833,
    "deepnote_output_heights": [
     59.59375,
     280
    ],
    "deepnote_cell_type": "code"
   },
   "source": "sample = df.sample(n=100)\nsns.regplot(data=sample, x=\"mileage (kmpl)\", y=\"selling_price\").set(title= \"Selling Price vs. Mileage\",\nxlabel = \"Mileage (kmpl)\", ylabel = \"Selling Price USD\")",
   "execution_count": 20,
   "outputs": [
    {
     "output_type": "execute_result",
     "execution_count": 20,
     "data": {
      "text/plain": "[Text(0.5, 1.0, 'Selling Price vs. Mileage'),\n Text(0.5, 0, 'Mileage (kmpl)'),\n Text(0, 0.5, 'Selling Price USD')]"
     },
     "metadata": {}
    },
    {
     "data": {
      "text/plain": "<Figure size 432x288 with 1 Axes>",
      "image/png": "[encoded data removed]"
     },
     "metadata": {
      "needs_background": "light",
      "image/png": {
       "width": 401,
       "height": 278
      }
     },
     "output_type": "display_data"
    }
   ]
  },
  {
   "cell_type": "markdown",
   "source": "Next, we graph Selling Price vs. Mileage of cars. We can see that our hypothesis of selling price increasing as mileage increases is rejected by this graph. There seems to be a minimal relationship between the two variables. This is not what we would expect. Normally, we'd think that cars that have can drive more miles per gallon (or in this case kilometers per liter) would sell for a higher price, but it seems that they don't.\n\nTo get an idea of how the cars on this plot stack up against the best (and worst) performing cars in terms of mileage, check out this resource updated for 2022:\n https://www.fueleconomy.gov/feg/best-worst.shtml",
   "metadata": {
    "tags": [],
    "cell_id": "00045-33c32963-bbf6-440d-b197-d9980508178a",
    "deepnote_cell_type": "markdown"
   }
  },
  {
   "cell_type": "code",
   "metadata": {
    "tags": [],
    "cell_id": "00045-b0efedcc-cb50-46ba-913d-0eec29253b80",
    "deepnote_to_be_reexecuted": false,
    "source_hash": "b42fe8dd",
    "execution_start": 1639974441434,
    "execution_millis": 1897,
    "deepnote_output_heights": [
     59.59375,
     280
    ],
    "deepnote_cell_type": "code"
   },
   "source": "sample = df.sample(n=100)\nsns.regplot(data=sample, x=\"max_power (bhp)\", y=\"selling_price\")\nsns.regplot(data=sample, x=\"max_power (bhp)\", y=\"selling_price\", order = 2)\nsns.regplot(data=sample, x=\"max_power (bhp)\", y=\"selling_price\", order = 3).set(title= \"Selling Price vs. Max Engine Power\",\nxlabel = \"Max Engine Power (horsepower)\", ylabel = \"Selling Price USD\")",
   "execution_count": 21,
   "outputs": [
    {
     "output_type": "execute_result",
     "execution_count": 21,
     "data": {
      "text/plain": "[Text(0.5, 1.0, 'Selling Price vs. Max Engine Power'),\n Text(0.5, 0, 'Max Engine Power (horsepower)'),\n Text(0, 0.5, 'Selling Price USD')]"
     },
     "metadata": {}
    },
    {
     "data": {
      "text/plain": "<Figure size 432x288 with 1 Axes>",
      "image/png": "[encoded data removed]"
     },
     "metadata": {
      "needs_background": "light",
      "image/png": {
       "width": 414,
       "height": 278
      }
     },
     "output_type": "display_data"
    }
   ]
  },
  {
   "cell_type": "markdown",
   "source": "We can also graph Selling Price vs Max Engine power. Here, we overlay three regression lines of orders 1, 2,and 3. We can see that the hypothesis of selling price increasing as max power increases is supported, but the relationship is definitely not linear. The majority of cars seem to be around 50-150 bhp, but outliers for this max power certainly lead to high selling price. These are likely very high quality cars that are more powerful than the average, leading to a higher price.",
   "metadata": {
    "tags": [],
    "cell_id": "00044-979462ba-a819-4619-8304-e78c0af2d261",
    "deepnote_cell_type": "markdown"
   }
  },
  {
   "cell_type": "code",
   "metadata": {
    "tags": [],
    "cell_id": "00050-30a990ca-f44d-494f-855f-1b6dd8e32934",
    "deepnote_to_be_reexecuted": false,
    "source_hash": "2a7e9dd",
    "execution_start": 1639974443336,
    "execution_millis": 789,
    "deepnote_output_heights": [
     59.59375,
     280
    ],
    "deepnote_cell_type": "code"
   },
   "source": "grouped = df.groupby(['seats'], as_index = False).mean()\nsns.regplot(data=grouped, x=\"seats\", y=\"selling_price\").set(title= \"Average Selling Price vs. # Seats\",\nxlabel = \"# Seats\", ylabel = \"Selling Price USD\")",
   "execution_count": 22,
   "outputs": [
    {
     "output_type": "execute_result",
     "execution_count": 22,
     "data": {
      "text/plain": "[Text(0.5, 1.0, 'Average Selling Price vs. # Seats'),\n Text(0.5, 0, '# Seats'),\n Text(0, 0.5, 'Selling Price USD')]"
     },
     "metadata": {}
    },
    {
     "data": {
      "text/plain": "<Figure size 432x288 with 1 Axes>",
      "image/png": "[encoded data removed]"
     },
     "metadata": {
      "needs_background": "light",
      "image/png": {
       "width": 401,
       "height": 278
      }
     },
     "output_type": "display_data"
    }
   ]
  },
  {
   "cell_type": "markdown",
   "source": "Lastly, we can plot the Average Selling Price vs. the Number of Seats in a car. We can see that the hypothesis of selling price increasing as seats increase is rejected by this graph. There is almost no relationship between seats and selling price -- if anything we see  that our linear regression line is  negative, so as seats go up, selling price decreases. This is a very interesting discovery to make as it is counterintuitive. This just goes to show why graphing and understanding your data is important. The assumptions you start with can easily be rejected, even if they are unintuitive.\n\nAs an aside, it is interesting that the highest seating vehicles sell for the least. Fourteen seats is not a standard size for any car, so a possible explanation could be that these vehicles were old buses or vans that are no longer being used by a school/company.",
   "metadata": {
    "tags": [],
    "cell_id": "00051-ffa9f638-5b17-4f54-8b96-2a19b258d619",
    "deepnote_cell_type": "markdown"
   }
  },
  {
   "cell_type": "markdown",
   "source": "From these graphs, we can see the most significant parameters for predicting selling price are year and max power. Number of owners and mileage seem to not have any impact on the selling price. Kilometers driven and number of seats may have some impact, but hardly any.",
   "metadata": {
    "tags": [],
    "cell_id": "00050-d929cd84-beb6-4096-be29-2b67d693cb8c",
    "deepnote_cell_type": "markdown"
   }
  },
  {
   "cell_type": "markdown",
   "source": "## Part 4: Data Analysis\n\nThe goal of data analysis is to be able to predict missing information given other features, using a model trained from a large dataset with the same features recorded. In this case, we aim to write a regressor that can predict the selling price of a vehicle given the year, Kilometers driven, order of ownership, mileage, maximum engine power, number of sets, type of transmission, and type of fuel. ",
   "metadata": {
    "id": "ixxf0TgyXlAw",
    "cell_id": "00009-1df98b57-160d-4b61-a8f0-1dbf2f5efbc1",
    "deepnote_cell_type": "markdown"
   }
  },
  {
   "cell_type": "markdown",
   "source": "## Preprocessing",
   "metadata": {
    "tags": [],
    "is_collapsed": false,
    "cell_id": "00036-68024237-9f8e-460b-871c-6bf3c4a27344",
    "deepnote_cell_type": "text-cell-h2"
   }
  },
  {
   "cell_type": "markdown",
   "source": "Given that some of the features in the dataset are not continuous, but rather categorical, it is important that we find a good quantitative method for representing these categorical features. Given that the options for categories for both the transmission and fuel type are limited, it would be a good idea to one-hot encode them. This means that each category in the feature is given its own binary feature - a car having a diesel engine among the choices of gasoline, diesel, and electric could be represented as [0, 1, 0].\n\nOne-hot encoding is a fantastic tool to understand for anyone interested in machine learning. Although we only briefly touch on it here, this article really explains well what it is and why we need to do it in this situation: https://machinelearningmastery.com/why-one-hot-encode-data-in-machine-learning/",
   "metadata": {
    "tags": [],
    "cell_id": "00053-3cee5059-b506-4869-b81e-cd88c67d9571",
    "deepnote_cell_type": "markdown"
   }
  },
  {
   "cell_type": "code",
   "metadata": {
    "id": "QeKqtAedXunw",
    "cell_id": "00010-8ea4478f-e119-4a2b-a37c-2e6b196a7885",
    "deepnote_to_be_reexecuted": false,
    "source_hash": "d44ae93",
    "execution_start": 1639974444130,
    "execution_millis": 273,
    "deepnote_table_state": {
     "pageSize": 10,
     "pageIndex": 0,
     "filters": [],
     "sortBy": [
      {
       "id": "seats",
       "type": "desc"
      }
     ]
    },
    "deepnote_table_loading": false,
    "deepnote_output_heights": [
     136.3125,
     21.1875
    ],
    "deepnote_cell_type": "code"
   },
   "source": "# Imports\nimport sklearn as sk\nfrom sklearn.preprocessing import OneHotEncoder\nfrom sklearn.utils import shuffle\n\n# Mark which columns to take at value, and which ones to one-hot encode\ncontinuousCols = [\"year\", \"km_driven\", \"owner\", \"mileage (kmpl)\", \"max_power (bhp)\", \"seats\"]\ncategoricalCols = [\"transmission\", \"fuel\"]\noutputCol = \"selling_price\"\n\n# Create sklearn encoder\nenc = OneHotEncoder()\n\n# Extract continuous and categorical data columns\nX = df[continuousCols].to_numpy()\nX_cat = df[categoricalCols].to_numpy()\nX = np.nan_to_num(X)\n\n# One-hot encode categorical columns\nenc.fit(X_cat)\nX_cat = enc.transform(X_cat).toarray()\n\n# Combine continuous and categorical data\nX = np.concatenate((X, X_cat), axis=1)\n\n# Extract output columns\nY = df[outputCol].to_numpy()\nY = np.expand_dims(Y, axis=0).T\n\nprint(X.shape, Y.shape)\n",
   "execution_count": 23,
   "outputs": [
    {
     "name": "stdout",
     "text": "(7906, 12) (7906, 1)\n",
     "output_type": "stream",
     "data": {}
    }
   ]
  },
  {
   "cell_type": "markdown",
   "source": "## Train/Validation Split",
   "metadata": {
    "tags": [],
    "is_collapsed": false,
    "cell_id": "00038-21678022-dacd-4fb8-aa67-e7bea427681e",
    "deepnote_cell_type": "text-cell-h2"
   }
  },
  {
   "cell_type": "markdown",
   "source": "After preprocessing our data, we must train our classifier and evaluate using 10-fold cross-validation. By training on 90% of the data and evaluating on 10%, for each 10% of the data, we can get ten equally-weighted scores of effectivity without eliminating any data from consideration. See how this is implemented using the code below:\n\n10-fold cross validation is another great technique to know about in machine learning. It comes from it's more general big brother \"k-fold cross validation\", but in this case we just set k to 10. This article explains in depth what it is and how to choose a good value for k:\nhttps://machinelearningmastery.com/k-fold-cross-validation/",
   "metadata": {
    "tags": [],
    "cell_id": "00056-a58e9bdd-f846-45bc-87c0-4b4d2c6107ee",
    "deepnote_cell_type": "markdown"
   }
  },
  {
   "cell_type": "code",
   "metadata": {
    "tags": [],
    "cell_id": "00038-2362f689-f012-4e9e-a98f-cf09f3c1d783",
    "deepnote_to_be_reexecuted": false,
    "source_hash": "aa74b1d8",
    "execution_start": 1639974444408,
    "execution_millis": 2935,
    "deepnote_cell_type": "code"
   },
   "source": "# Imports\nfrom sklearn.svm import LinearSVR\nfrom sklearn.neighbors import KNeighborsRegressor\nfrom sklearn.pipeline import make_pipeline\nfrom sklearn.preprocessing import StandardScaler\n\n# Training function for one iteration given a training set, evaluate using validation set\ndef trainData(X_train, Y_train, X_val, Y_val, method=\"KNReg\"):\n    if method == \"KNReg\":\n        # Remove extra dimension from Y\n        Y_train, Y_val = Y_train.flatten(), Y_val.flatten()\n\n        # Initialize SVM Regressor, add scaler\n        regr = make_pipeline(StandardScaler(), KNeighborsRegressor())\n        \n        # Fit model, get predictions and R^2 score for validation set\n        regr.fit(X_train, Y_train)\n        pred = regr.predict(X_val)\n        r2 = regr.score(X_val, Y_val)\n        \n        # Return differences and r^2 set\n        return np.mean(Y_val - pred), r2\n\n# Shuffle X and Y data uniformly\nX, Y = shuffle(X, Y)\nprint(X.shape, Y.shape)\n\n# Set parameters and data collection for cross-validation\ncrossValN = 10\ninterval = X.shape[0]//crossValN\ndiffs = []\nlosses = []\n\n# Iterate through cross-validation\nfor i in range(crossValN):\n    \n    # Extract train and validation set based on iteration\n    val_start, val_end = interval * i , interval * (i+1)\n    X_train = np.concatenate((X[:val_start], X[val_end:]))\n    X_val = X[val_start:val_end]\n    Y_train = np.concatenate((Y[:val_start], Y[val_end:]))\n    Y_val = Y[val_start:val_end]\n\n    # Train on given sets\n    print(f\"Training on validation set {i}:\")\n    diff, r2 = trainData(X_train, Y_train, X_val, Y_val)\n\n    # Append metrics to global list\n    diffs.append(diff)\n    losses.append(r2)\n    print(diff, r2)\n\n# Display training metrics\nmean_diff = sum(diffs) / len(diffs)\nmean_r2 = sum(losses) / len(losses)\nprint(f\"Average difference over 10-fold cross-validation: {mean_diff}\")\nprint(f\"Average R^2 loss over 10-fold cross-validation: {mean_r2}\")\n\n",
   "execution_count": 24,
   "outputs": [
    {
     "name": "stdout",
     "text": "(7906, 12) (7906, 1)\nTraining on validation set 0:\n61.7439311392405 0.9630683605205397\nTraining on validation set 1:\n-131.76004860759497 0.9435077743841558\nTraining on validation set 2:\n-50.107677215189916 0.9508807458832249\nTraining on validation set 3:\n-66.40540860759498 0.9472181240807653\nTraining on validation set 4:\n-10.61144911392411 0.9416930723806429\nTraining on validation set 5:\n-70.32011341772154 0.9619183085047105\nTraining on validation set 6:\n193.73351367088603 0.9053756940131943\nTraining on validation set 7:\n143.57006810126578 0.9450375273325258\nTraining on validation set 8:\n38.55665063291135 0.9348197243496029\nTraining on validation set 9:\n-59.83699569620258 0.9659105568923005\nAverage difference over 10-fold cross-validation: 4.856247088607558\nAverage R^2 loss over 10-fold cross-validation: 0.9459429888341662\n",
     "output_type": "stream",
     "data": {}
    }
   ]
  },
  {
   "cell_type": "markdown",
   "source": "Given that our mean deviation from ground truth prices was only Rs. 15, or $0.20 in USD, and that our R^2 value was relatively close to 1.0 at 0.944 on the validation set, we can conclude that our model is able to fairly accurately predict the price of a used car given the aforementioned parameters.",
   "metadata": {
    "tags": [],
    "cell_id": "00058-320527c3-19f5-45bd-bea4-a930ab9f2b17",
    "deepnote_cell_type": "markdown"
   }
  },
  {
   "cell_type": "markdown",
   "source": "## Part 5: Insights",
   "metadata": {
    "id": "8jzWhglMXm4L",
    "cell_id": "00011-ff8c7de6-74d4-424b-93c3-38b8e8ad5595",
    "deepnote_cell_type": "markdown"
   }
  },
  {
   "cell_type": "markdown",
   "source": "Through our data exploration and analysis, we can clearly see what factors determine a used car's selling price and which are not as signficant.\n\nOur first clear conclusion is newer cars are more expensive. This makes a lot of sense, since people are more likely to buy cars that are cleaner and less used. Trying to buy used cars that are very new will be very difficult since they will be expensive. However, most cars older than 10-15 years ago will be around the same price. If you are trying to sell an old car, it will not lose you a lot of money to wait a few more years, since the selling price will be similar.\n\nAnother clear conclusion is that cars with high max power will be have a higher selling price. You may be getting ripped off if you buy a very expensive car with a low max power. Similarly, if you are selling a used car with high max power, you should be able to get a good amount of money.\n\nWe have also seen that some conditions of the car are not very significant for the selling price. Number of owners and mileage will have less of an impact on selling price than many of these other factors. Kilometers driven and number of seats may have some impact, but hardly any. If you care about number of seats when buying a new car, then you should be able to find similar priced cars of very different sizes.\n\nOne conclusion was very confusing -- why does kilometers driven not have an impact on the price? Perhaps people simply just care about the age and power of the car rather than use -- if a car is new and powerful, then it will be expensive.\n\nIf you are interested in learning more about the sale of new cars, you can check out some of the following resources. \n\nhttps://www.kbb.com/whats-my-car-worth/\nhttps://fortune.com/2021/12/09/used-car-models-biggest-price-increase/\nhttps://publish.manheim.com/en/services/consulting/used-vehicle-value-index.html\nhttps://www.consumerreports.org/buying-a-car/when-to-buy-a-used-car-a6584238157/\n\nWe hope you enjoyed our project!",
   "metadata": {
    "id": "4yEG1rKgXwLM",
    "cell_id": "00012-de21dc8f-6656-4e6b-99df-654fc63a378e",
    "deepnote_cell_type": "markdown"
   }
  },
  {
   "cell_type": "markdown",
   "source": "",
   "metadata": {
    "tags": [],
    "cell_id": "00061-8d7c4431-cb80-4c31-a163-db6a959b1c64",
    "deepnote_cell_type": "markdown"
   }
  },
  {
   "cell_type": "markdown",
   "source": "<a style='text-decoration:none;line-height:16px;display:flex;color:#5B5B62;padding:10px;justify-content:end;' href='https://deepnote.com?utm_source=created-in-deepnote-cell&projectId=6677ed25-311e-433f-acbc-a3768f5d25a5' target=\"_blank\">\n<img alt='Created in deepnote.com' style='display:inline;max-height:16px;margin:0px;margin-right:7.5px;' src='data:image/svg+xml;base64,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' > </img>\nCreated in <span style='font-weight:600;margin-left:4px;'>Deepnote</span></a>",
   "metadata": {
    "tags": [],
    "created_in_deepnote_cell": true,
    "deepnote_cell_type": "markdown"
   }
  }
 ],
 "nbformat": 4,
 "nbformat_minor": 0,
 "metadata": {
  "colab": {
   "name": "finalProject.ipynb",
   "provenance": [],
   "collapsed_sections": []
  },
  "kernelspec": {
   "name": "python3",
   "display_name": "Python 3"
  },
  "language_info": {
   "name": "python"
  },
  "deepnote_notebook_id": "c0197dd8-616f-49f4-bb3f-ebacf6ab191e",
  "deepnote": {},
  "deepnote_execution_queue": []
 }
}